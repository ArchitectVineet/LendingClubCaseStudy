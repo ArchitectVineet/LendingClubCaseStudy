{
 "cells": [
  {
   "cell_type": "code",
   "execution_count": 1,
   "id": "fcc1e03c",
   "metadata": {},
   "outputs": [],
   "source": [
    "# Importing Required libraries\n",
    "import pandas as pd\n",
    "import numpy as np"
   ]
  },
  {
   "cell_type": "code",
   "execution_count": 2,
   "id": "e3108b45",
   "metadata": {},
   "outputs": [
    {
     "name": "stderr",
     "output_type": "stream",
     "text": [
      "C:\\ProgramData\\Anaconda3\\lib\\site-packages\\IPython\\core\\interactiveshell.py:3165: DtypeWarning: Columns (47) have mixed types.Specify dtype option on import or set low_memory=False.\n",
      "  has_raised = await self.run_ast_nodes(code_ast.body, cell_name,\n"
     ]
    }
   ],
   "source": [
    "# Loading data from CSV file \n",
    "LoanData=pd.read_csv(\"loan.csv\")"
   ]
  },
  {
   "cell_type": "code",
   "execution_count": 3,
   "id": "87375a2a",
   "metadata": {},
   "outputs": [
    {
     "data": {
      "text/plain": [
       "(39717, 111)"
      ]
     },
     "execution_count": 3,
     "metadata": {},
     "output_type": "execute_result"
    }
   ],
   "source": [
    "#Checking the Loaded data using head, shape and info functions\n",
    "LoanData.shape"
   ]
  },
  {
   "cell_type": "code",
   "execution_count": 4,
   "id": "306a6a92",
   "metadata": {},
   "outputs": [
    {
     "data": {
      "text/html": [
       "<div>\n",
       "<style scoped>\n",
       "    .dataframe tbody tr th:only-of-type {\n",
       "        vertical-align: middle;\n",
       "    }\n",
       "\n",
       "    .dataframe tbody tr th {\n",
       "        vertical-align: top;\n",
       "    }\n",
       "\n",
       "    .dataframe thead th {\n",
       "        text-align: right;\n",
       "    }\n",
       "</style>\n",
       "<table border=\"1\" class=\"dataframe\">\n",
       "  <thead>\n",
       "    <tr style=\"text-align: right;\">\n",
       "      <th></th>\n",
       "      <th>id</th>\n",
       "      <th>member_id</th>\n",
       "      <th>loan_amnt</th>\n",
       "      <th>funded_amnt</th>\n",
       "      <th>funded_amnt_inv</th>\n",
       "      <th>term</th>\n",
       "      <th>int_rate</th>\n",
       "      <th>installment</th>\n",
       "      <th>grade</th>\n",
       "      <th>sub_grade</th>\n",
       "      <th>...</th>\n",
       "      <th>num_tl_90g_dpd_24m</th>\n",
       "      <th>num_tl_op_past_12m</th>\n",
       "      <th>pct_tl_nvr_dlq</th>\n",
       "      <th>percent_bc_gt_75</th>\n",
       "      <th>pub_rec_bankruptcies</th>\n",
       "      <th>tax_liens</th>\n",
       "      <th>tot_hi_cred_lim</th>\n",
       "      <th>total_bal_ex_mort</th>\n",
       "      <th>total_bc_limit</th>\n",
       "      <th>total_il_high_credit_limit</th>\n",
       "    </tr>\n",
       "  </thead>\n",
       "  <tbody>\n",
       "    <tr>\n",
       "      <th>0</th>\n",
       "      <td>1077501</td>\n",
       "      <td>1296599</td>\n",
       "      <td>5000</td>\n",
       "      <td>5000</td>\n",
       "      <td>4975.0</td>\n",
       "      <td>36 months</td>\n",
       "      <td>10.65%</td>\n",
       "      <td>162.87</td>\n",
       "      <td>B</td>\n",
       "      <td>B2</td>\n",
       "      <td>...</td>\n",
       "      <td>NaN</td>\n",
       "      <td>NaN</td>\n",
       "      <td>NaN</td>\n",
       "      <td>NaN</td>\n",
       "      <td>0.0</td>\n",
       "      <td>0.0</td>\n",
       "      <td>NaN</td>\n",
       "      <td>NaN</td>\n",
       "      <td>NaN</td>\n",
       "      <td>NaN</td>\n",
       "    </tr>\n",
       "    <tr>\n",
       "      <th>1</th>\n",
       "      <td>1077430</td>\n",
       "      <td>1314167</td>\n",
       "      <td>2500</td>\n",
       "      <td>2500</td>\n",
       "      <td>2500.0</td>\n",
       "      <td>60 months</td>\n",
       "      <td>15.27%</td>\n",
       "      <td>59.83</td>\n",
       "      <td>C</td>\n",
       "      <td>C4</td>\n",
       "      <td>...</td>\n",
       "      <td>NaN</td>\n",
       "      <td>NaN</td>\n",
       "      <td>NaN</td>\n",
       "      <td>NaN</td>\n",
       "      <td>0.0</td>\n",
       "      <td>0.0</td>\n",
       "      <td>NaN</td>\n",
       "      <td>NaN</td>\n",
       "      <td>NaN</td>\n",
       "      <td>NaN</td>\n",
       "    </tr>\n",
       "    <tr>\n",
       "      <th>2</th>\n",
       "      <td>1077175</td>\n",
       "      <td>1313524</td>\n",
       "      <td>2400</td>\n",
       "      <td>2400</td>\n",
       "      <td>2400.0</td>\n",
       "      <td>36 months</td>\n",
       "      <td>15.96%</td>\n",
       "      <td>84.33</td>\n",
       "      <td>C</td>\n",
       "      <td>C5</td>\n",
       "      <td>...</td>\n",
       "      <td>NaN</td>\n",
       "      <td>NaN</td>\n",
       "      <td>NaN</td>\n",
       "      <td>NaN</td>\n",
       "      <td>0.0</td>\n",
       "      <td>0.0</td>\n",
       "      <td>NaN</td>\n",
       "      <td>NaN</td>\n",
       "      <td>NaN</td>\n",
       "      <td>NaN</td>\n",
       "    </tr>\n",
       "    <tr>\n",
       "      <th>3</th>\n",
       "      <td>1076863</td>\n",
       "      <td>1277178</td>\n",
       "      <td>10000</td>\n",
       "      <td>10000</td>\n",
       "      <td>10000.0</td>\n",
       "      <td>36 months</td>\n",
       "      <td>13.49%</td>\n",
       "      <td>339.31</td>\n",
       "      <td>C</td>\n",
       "      <td>C1</td>\n",
       "      <td>...</td>\n",
       "      <td>NaN</td>\n",
       "      <td>NaN</td>\n",
       "      <td>NaN</td>\n",
       "      <td>NaN</td>\n",
       "      <td>0.0</td>\n",
       "      <td>0.0</td>\n",
       "      <td>NaN</td>\n",
       "      <td>NaN</td>\n",
       "      <td>NaN</td>\n",
       "      <td>NaN</td>\n",
       "    </tr>\n",
       "    <tr>\n",
       "      <th>4</th>\n",
       "      <td>1075358</td>\n",
       "      <td>1311748</td>\n",
       "      <td>3000</td>\n",
       "      <td>3000</td>\n",
       "      <td>3000.0</td>\n",
       "      <td>60 months</td>\n",
       "      <td>12.69%</td>\n",
       "      <td>67.79</td>\n",
       "      <td>B</td>\n",
       "      <td>B5</td>\n",
       "      <td>...</td>\n",
       "      <td>NaN</td>\n",
       "      <td>NaN</td>\n",
       "      <td>NaN</td>\n",
       "      <td>NaN</td>\n",
       "      <td>0.0</td>\n",
       "      <td>0.0</td>\n",
       "      <td>NaN</td>\n",
       "      <td>NaN</td>\n",
       "      <td>NaN</td>\n",
       "      <td>NaN</td>\n",
       "    </tr>\n",
       "  </tbody>\n",
       "</table>\n",
       "<p>5 rows × 111 columns</p>\n",
       "</div>"
      ],
      "text/plain": [
       "        id  member_id  loan_amnt  funded_amnt  funded_amnt_inv        term  \\\n",
       "0  1077501    1296599       5000         5000           4975.0   36 months   \n",
       "1  1077430    1314167       2500         2500           2500.0   60 months   \n",
       "2  1077175    1313524       2400         2400           2400.0   36 months   \n",
       "3  1076863    1277178      10000        10000          10000.0   36 months   \n",
       "4  1075358    1311748       3000         3000           3000.0   60 months   \n",
       "\n",
       "  int_rate  installment grade sub_grade  ... num_tl_90g_dpd_24m  \\\n",
       "0   10.65%       162.87     B        B2  ...                NaN   \n",
       "1   15.27%        59.83     C        C4  ...                NaN   \n",
       "2   15.96%        84.33     C        C5  ...                NaN   \n",
       "3   13.49%       339.31     C        C1  ...                NaN   \n",
       "4   12.69%        67.79     B        B5  ...                NaN   \n",
       "\n",
       "  num_tl_op_past_12m pct_tl_nvr_dlq  percent_bc_gt_75 pub_rec_bankruptcies  \\\n",
       "0                NaN            NaN               NaN                  0.0   \n",
       "1                NaN            NaN               NaN                  0.0   \n",
       "2                NaN            NaN               NaN                  0.0   \n",
       "3                NaN            NaN               NaN                  0.0   \n",
       "4                NaN            NaN               NaN                  0.0   \n",
       "\n",
       "  tax_liens tot_hi_cred_lim total_bal_ex_mort total_bc_limit  \\\n",
       "0       0.0             NaN               NaN            NaN   \n",
       "1       0.0             NaN               NaN            NaN   \n",
       "2       0.0             NaN               NaN            NaN   \n",
       "3       0.0             NaN               NaN            NaN   \n",
       "4       0.0             NaN               NaN            NaN   \n",
       "\n",
       "  total_il_high_credit_limit  \n",
       "0                        NaN  \n",
       "1                        NaN  \n",
       "2                        NaN  \n",
       "3                        NaN  \n",
       "4                        NaN  \n",
       "\n",
       "[5 rows x 111 columns]"
      ]
     },
     "execution_count": 4,
     "metadata": {},
     "output_type": "execute_result"
    }
   ],
   "source": [
    "LoanData.head()"
   ]
  },
  {
   "cell_type": "code",
   "execution_count": 5,
   "id": "af29a150",
   "metadata": {},
   "outputs": [
    {
     "data": {
      "text/plain": [
       "<bound method DataFrame.info of             id  member_id  loan_amnt  funded_amnt  funded_amnt_inv  \\\n",
       "0      1077501    1296599       5000         5000           4975.0   \n",
       "1      1077430    1314167       2500         2500           2500.0   \n",
       "2      1077175    1313524       2400         2400           2400.0   \n",
       "3      1076863    1277178      10000        10000          10000.0   \n",
       "4      1075358    1311748       3000         3000           3000.0   \n",
       "...        ...        ...        ...          ...              ...   \n",
       "39712    92187      92174       2500         2500           1075.0   \n",
       "39713    90665      90607       8500         8500            875.0   \n",
       "39714    90395      90390       5000         5000           1325.0   \n",
       "39715    90376      89243       5000         5000            650.0   \n",
       "39716    87023      86999       7500         7500            800.0   \n",
       "\n",
       "             term int_rate  installment grade sub_grade  ...  \\\n",
       "0       36 months   10.65%       162.87     B        B2  ...   \n",
       "1       60 months   15.27%        59.83     C        C4  ...   \n",
       "2       36 months   15.96%        84.33     C        C5  ...   \n",
       "3       36 months   13.49%       339.31     C        C1  ...   \n",
       "4       60 months   12.69%        67.79     B        B5  ...   \n",
       "...           ...      ...          ...   ...       ...  ...   \n",
       "39712   36 months    8.07%        78.42     A        A4  ...   \n",
       "39713   36 months   10.28%       275.38     C        C1  ...   \n",
       "39714   36 months    8.07%       156.84     A        A4  ...   \n",
       "39715   36 months    7.43%       155.38     A        A2  ...   \n",
       "39716   36 months   13.75%       255.43     E        E2  ...   \n",
       "\n",
       "      num_tl_90g_dpd_24m num_tl_op_past_12m pct_tl_nvr_dlq  percent_bc_gt_75  \\\n",
       "0                    NaN                NaN            NaN               NaN   \n",
       "1                    NaN                NaN            NaN               NaN   \n",
       "2                    NaN                NaN            NaN               NaN   \n",
       "3                    NaN                NaN            NaN               NaN   \n",
       "4                    NaN                NaN            NaN               NaN   \n",
       "...                  ...                ...            ...               ...   \n",
       "39712                NaN                NaN            NaN               NaN   \n",
       "39713                NaN                NaN            NaN               NaN   \n",
       "39714                NaN                NaN            NaN               NaN   \n",
       "39715                NaN                NaN            NaN               NaN   \n",
       "39716                NaN                NaN            NaN               NaN   \n",
       "\n",
       "      pub_rec_bankruptcies tax_liens tot_hi_cred_lim total_bal_ex_mort  \\\n",
       "0                      0.0       0.0             NaN               NaN   \n",
       "1                      0.0       0.0             NaN               NaN   \n",
       "2                      0.0       0.0             NaN               NaN   \n",
       "3                      0.0       0.0             NaN               NaN   \n",
       "4                      0.0       0.0             NaN               NaN   \n",
       "...                    ...       ...             ...               ...   \n",
       "39712                  NaN       NaN             NaN               NaN   \n",
       "39713                  NaN       NaN             NaN               NaN   \n",
       "39714                  NaN       NaN             NaN               NaN   \n",
       "39715                  NaN       NaN             NaN               NaN   \n",
       "39716                  NaN       NaN             NaN               NaN   \n",
       "\n",
       "      total_bc_limit total_il_high_credit_limit  \n",
       "0                NaN                        NaN  \n",
       "1                NaN                        NaN  \n",
       "2                NaN                        NaN  \n",
       "3                NaN                        NaN  \n",
       "4                NaN                        NaN  \n",
       "...              ...                        ...  \n",
       "39712            NaN                        NaN  \n",
       "39713            NaN                        NaN  \n",
       "39714            NaN                        NaN  \n",
       "39715            NaN                        NaN  \n",
       "39716            NaN                        NaN  \n",
       "\n",
       "[39717 rows x 111 columns]>"
      ]
     },
     "execution_count": 5,
     "metadata": {},
     "output_type": "execute_result"
    }
   ],
   "source": [
    "LoanData.info"
   ]
  },
  {
   "cell_type": "code",
   "execution_count": 6,
   "id": "c1d3c297",
   "metadata": {},
   "outputs": [
    {
     "data": {
      "text/plain": [
       "Index(['id', 'member_id', 'loan_amnt', 'funded_amnt', 'funded_amnt_inv',\n",
       "       'term', 'int_rate', 'installment', 'grade', 'sub_grade',\n",
       "       ...\n",
       "       'num_tl_90g_dpd_24m', 'num_tl_op_past_12m', 'pct_tl_nvr_dlq',\n",
       "       'percent_bc_gt_75', 'pub_rec_bankruptcies', 'tax_liens',\n",
       "       'tot_hi_cred_lim', 'total_bal_ex_mort', 'total_bc_limit',\n",
       "       'total_il_high_credit_limit'],\n",
       "      dtype='object', length=111)"
      ]
     },
     "execution_count": 6,
     "metadata": {},
     "output_type": "execute_result"
    }
   ],
   "source": [
    "LoanData.columns"
   ]
  },
  {
   "cell_type": "code",
   "execution_count": 7,
   "id": "48d2a9ac",
   "metadata": {},
   "outputs": [
    {
     "data": {
      "text/plain": [
       "id                                0\n",
       "member_id                         0\n",
       "loan_amnt                         0\n",
       "funded_amnt                       0\n",
       "funded_amnt_inv                   0\n",
       "                              ...  \n",
       "tax_liens                        39\n",
       "tot_hi_cred_lim               39717\n",
       "total_bal_ex_mort             39717\n",
       "total_bc_limit                39717\n",
       "total_il_high_credit_limit    39717\n",
       "Length: 111, dtype: int64"
      ]
     },
     "execution_count": 7,
     "metadata": {},
     "output_type": "execute_result"
    }
   ],
   "source": [
    "#Check for empty values\n",
    "LoanData.isnull().sum()"
   ]
  },
  {
   "cell_type": "markdown",
   "id": "18698a33",
   "metadata": {},
   "source": [
    "##### Initial Data check ( Based on info and head commands)\n",
    "Shape - 39717, 111\n",
    "\n",
    "- First column has header details in the csv, hence the pd.read_csv Command is fine.\n",
    "- Column names are fine as well. No action required on renaming the column names.\n",
    "- Few of the columns do not have any data as all the results returned Nan from info command.\n",
    "- Check for any empty rows  "
   ]
  },
  {
   "cell_type": "code",
   "execution_count": 8,
   "id": "1828bbeb",
   "metadata": {},
   "outputs": [
    {
     "data": {
      "text/plain": [
       "['mths_since_last_major_derog',\n",
       " 'annual_inc_joint',\n",
       " 'dti_joint',\n",
       " 'verification_status_joint',\n",
       " 'tot_coll_amt',\n",
       " 'tot_cur_bal',\n",
       " 'open_acc_6m',\n",
       " 'open_il_6m',\n",
       " 'open_il_12m',\n",
       " 'open_il_24m',\n",
       " 'mths_since_rcnt_il',\n",
       " 'total_bal_il',\n",
       " 'il_util',\n",
       " 'open_rv_12m',\n",
       " 'open_rv_24m',\n",
       " 'max_bal_bc',\n",
       " 'all_util',\n",
       " 'total_rev_hi_lim',\n",
       " 'inq_fi',\n",
       " 'total_cu_tl',\n",
       " 'inq_last_12m',\n",
       " 'acc_open_past_24mths',\n",
       " 'avg_cur_bal',\n",
       " 'bc_open_to_buy',\n",
       " 'bc_util',\n",
       " 'mo_sin_old_il_acct',\n",
       " 'mo_sin_old_rev_tl_op',\n",
       " 'mo_sin_rcnt_rev_tl_op',\n",
       " 'mo_sin_rcnt_tl',\n",
       " 'mort_acc',\n",
       " 'mths_since_recent_bc',\n",
       " 'mths_since_recent_bc_dlq',\n",
       " 'mths_since_recent_inq',\n",
       " 'mths_since_recent_revol_delinq',\n",
       " 'num_accts_ever_120_pd',\n",
       " 'num_actv_bc_tl',\n",
       " 'num_actv_rev_tl',\n",
       " 'num_bc_sats',\n",
       " 'num_bc_tl',\n",
       " 'num_il_tl',\n",
       " 'num_op_rev_tl',\n",
       " 'num_rev_accts',\n",
       " 'num_rev_tl_bal_gt_0',\n",
       " 'num_sats',\n",
       " 'num_tl_120dpd_2m',\n",
       " 'num_tl_30dpd',\n",
       " 'num_tl_90g_dpd_24m',\n",
       " 'num_tl_op_past_12m',\n",
       " 'pct_tl_nvr_dlq',\n",
       " 'percent_bc_gt_75',\n",
       " 'tot_hi_cred_lim',\n",
       " 'total_bal_ex_mort',\n",
       " 'total_bc_limit',\n",
       " 'total_il_high_credit_limit']"
      ]
     },
     "execution_count": 8,
     "metadata": {},
     "output_type": "execute_result"
    }
   ],
   "source": [
    "#Deleting the columns which have empty data \n",
    "NAN_ColumnNames = [i for i in LoanData.columns if LoanData[i].isnull().sum()==LoanData.shape[0]]\n",
    "NAN_ColumnNames"
   ]
  },
  {
   "cell_type": "code",
   "execution_count": 9,
   "id": "e723f14d",
   "metadata": {},
   "outputs": [
    {
     "data": {
      "text/plain": [
       "54"
      ]
     },
     "execution_count": 9,
     "metadata": {},
     "output_type": "execute_result"
    }
   ],
   "source": [
    "len(NAN_ColumnNames)"
   ]
  },
  {
   "cell_type": "code",
   "execution_count": 10,
   "id": "dec5d9ba",
   "metadata": {},
   "outputs": [
    {
     "data": {
      "text/plain": [
       "(39717, 57)"
      ]
     },
     "execution_count": 10,
     "metadata": {},
     "output_type": "execute_result"
    }
   ],
   "source": [
    "#Deleting above 54 empty columns from the data frame\n",
    "LoanData.drop(labels=NAN_ColumnNames, axis=1,inplace=True)\n",
    "LoanData.shape"
   ]
  },
  {
   "cell_type": "code",
   "execution_count": 11,
   "id": "34613c10",
   "metadata": {},
   "outputs": [
    {
     "data": {
      "text/plain": [
       "id                                0\n",
       "member_id                         0\n",
       "loan_amnt                         0\n",
       "funded_amnt                       0\n",
       "funded_amnt_inv                   0\n",
       "term                              0\n",
       "int_rate                          0\n",
       "installment                       0\n",
       "grade                             0\n",
       "sub_grade                         0\n",
       "emp_title                      2459\n",
       "emp_length                     1075\n",
       "home_ownership                    0\n",
       "annual_inc                        0\n",
       "verification_status               0\n",
       "issue_d                           0\n",
       "loan_status                       0\n",
       "pymnt_plan                        0\n",
       "url                               0\n",
       "desc                          12940\n",
       "purpose                           0\n",
       "title                            11\n",
       "zip_code                          0\n",
       "addr_state                        0\n",
       "dti                               0\n",
       "delinq_2yrs                       0\n",
       "earliest_cr_line                  0\n",
       "inq_last_6mths                    0\n",
       "mths_since_last_delinq        25682\n",
       "mths_since_last_record        36931\n",
       "open_acc                          0\n",
       "pub_rec                           0\n",
       "revol_bal                         0\n",
       "revol_util                       50\n",
       "total_acc                         0\n",
       "initial_list_status               0\n",
       "out_prncp                         0\n",
       "out_prncp_inv                     0\n",
       "total_pymnt                       0\n",
       "total_pymnt_inv                   0\n",
       "total_rec_prncp                   0\n",
       "total_rec_int                     0\n",
       "total_rec_late_fee                0\n",
       "recoveries                        0\n",
       "collection_recovery_fee           0\n",
       "last_pymnt_d                     71\n",
       "last_pymnt_amnt                   0\n",
       "next_pymnt_d                  38577\n",
       "last_credit_pull_d                2\n",
       "collections_12_mths_ex_med       56\n",
       "policy_code                       0\n",
       "application_type                  0\n",
       "acc_now_delinq                    0\n",
       "chargeoff_within_12_mths         56\n",
       "delinq_amnt                       0\n",
       "pub_rec_bankruptcies            697\n",
       "tax_liens                        39\n",
       "dtype: int64"
      ]
     },
     "execution_count": 11,
     "metadata": {},
     "output_type": "execute_result"
    }
   ],
   "source": [
    "#Check for empty values\n",
    "LoanData.isnull().sum()"
   ]
  },
  {
   "cell_type": "code",
   "execution_count": 12,
   "id": "78de2534",
   "metadata": {},
   "outputs": [],
   "source": [
    "#dropping columns-->  mths_since_last_delinq , mths_since_last_record,next_pymnt_d as the columns have lot of null values>50%\n",
    "del LoanData['mths_since_last_delinq']\n",
    "del LoanData['mths_since_last_record']\n",
    "del LoanData['next_pymnt_d']\n"
   ]
  },
  {
   "cell_type": "code",
   "execution_count": 13,
   "id": "80015164",
   "metadata": {},
   "outputs": [],
   "source": [
    "#zip_code column data is masked and is very hard to impute these values, hence dropping zip_code column\n",
    "del LoanData['zip_code']"
   ]
  },
  {
   "cell_type": "markdown",
   "id": "92e3de96",
   "metadata": {},
   "source": [
    "- Based on the above output of null values, most of the columns on which we perform the analysis do not have null values, hence we are good with fixing the missing values\n",
    "- Column names are fine too, do not see any repitition of the column names"
   ]
  },
  {
   "cell_type": "code",
   "execution_count": 14,
   "id": "66027cd5",
   "metadata": {},
   "outputs": [
    {
     "name": "stdout",
     "output_type": "stream",
     "text": [
      "<class 'pandas.core.frame.DataFrame'>\n",
      "RangeIndex: 39717 entries, 0 to 39716\n",
      "Data columns (total 53 columns):\n",
      " #   Column                      Non-Null Count  Dtype  \n",
      "---  ------                      --------------  -----  \n",
      " 0   id                          39717 non-null  int64  \n",
      " 1   member_id                   39717 non-null  int64  \n",
      " 2   loan_amnt                   39717 non-null  int64  \n",
      " 3   funded_amnt                 39717 non-null  int64  \n",
      " 4   funded_amnt_inv             39717 non-null  float64\n",
      " 5   term                        39717 non-null  object \n",
      " 6   int_rate                    39717 non-null  object \n",
      " 7   installment                 39717 non-null  float64\n",
      " 8   grade                       39717 non-null  object \n",
      " 9   sub_grade                   39717 non-null  object \n",
      " 10  emp_title                   37258 non-null  object \n",
      " 11  emp_length                  38642 non-null  object \n",
      " 12  home_ownership              39717 non-null  object \n",
      " 13  annual_inc                  39717 non-null  float64\n",
      " 14  verification_status         39717 non-null  object \n",
      " 15  issue_d                     39717 non-null  object \n",
      " 16  loan_status                 39717 non-null  object \n",
      " 17  pymnt_plan                  39717 non-null  object \n",
      " 18  url                         39717 non-null  object \n",
      " 19  desc                        26777 non-null  object \n",
      " 20  purpose                     39717 non-null  object \n",
      " 21  title                       39706 non-null  object \n",
      " 22  addr_state                  39717 non-null  object \n",
      " 23  dti                         39717 non-null  float64\n",
      " 24  delinq_2yrs                 39717 non-null  int64  \n",
      " 25  earliest_cr_line            39717 non-null  object \n",
      " 26  inq_last_6mths              39717 non-null  int64  \n",
      " 27  open_acc                    39717 non-null  int64  \n",
      " 28  pub_rec                     39717 non-null  int64  \n",
      " 29  revol_bal                   39717 non-null  int64  \n",
      " 30  revol_util                  39667 non-null  object \n",
      " 31  total_acc                   39717 non-null  int64  \n",
      " 32  initial_list_status         39717 non-null  object \n",
      " 33  out_prncp                   39717 non-null  float64\n",
      " 34  out_prncp_inv               39717 non-null  float64\n",
      " 35  total_pymnt                 39717 non-null  float64\n",
      " 36  total_pymnt_inv             39717 non-null  float64\n",
      " 37  total_rec_prncp             39717 non-null  float64\n",
      " 38  total_rec_int               39717 non-null  float64\n",
      " 39  total_rec_late_fee          39717 non-null  float64\n",
      " 40  recoveries                  39717 non-null  float64\n",
      " 41  collection_recovery_fee     39717 non-null  float64\n",
      " 42  last_pymnt_d                39646 non-null  object \n",
      " 43  last_pymnt_amnt             39717 non-null  float64\n",
      " 44  last_credit_pull_d          39715 non-null  object \n",
      " 45  collections_12_mths_ex_med  39661 non-null  float64\n",
      " 46  policy_code                 39717 non-null  int64  \n",
      " 47  application_type            39717 non-null  object \n",
      " 48  acc_now_delinq              39717 non-null  int64  \n",
      " 49  chargeoff_within_12_mths    39661 non-null  float64\n",
      " 50  delinq_amnt                 39717 non-null  int64  \n",
      " 51  pub_rec_bankruptcies        39020 non-null  float64\n",
      " 52  tax_liens                   39678 non-null  float64\n",
      "dtypes: float64(18), int64(13), object(22)\n",
      "memory usage: 16.1+ MB\n",
      "None\n"
     ]
    },
    {
     "data": {
      "text/html": [
       "<div>\n",
       "<style scoped>\n",
       "    .dataframe tbody tr th:only-of-type {\n",
       "        vertical-align: middle;\n",
       "    }\n",
       "\n",
       "    .dataframe tbody tr th {\n",
       "        vertical-align: top;\n",
       "    }\n",
       "\n",
       "    .dataframe thead th {\n",
       "        text-align: right;\n",
       "    }\n",
       "</style>\n",
       "<table border=\"1\" class=\"dataframe\">\n",
       "  <thead>\n",
       "    <tr style=\"text-align: right;\">\n",
       "      <th></th>\n",
       "      <th>id</th>\n",
       "      <th>member_id</th>\n",
       "      <th>loan_amnt</th>\n",
       "      <th>funded_amnt</th>\n",
       "      <th>funded_amnt_inv</th>\n",
       "      <th>term</th>\n",
       "      <th>int_rate</th>\n",
       "      <th>installment</th>\n",
       "      <th>grade</th>\n",
       "      <th>sub_grade</th>\n",
       "      <th>...</th>\n",
       "      <th>last_pymnt_amnt</th>\n",
       "      <th>last_credit_pull_d</th>\n",
       "      <th>collections_12_mths_ex_med</th>\n",
       "      <th>policy_code</th>\n",
       "      <th>application_type</th>\n",
       "      <th>acc_now_delinq</th>\n",
       "      <th>chargeoff_within_12_mths</th>\n",
       "      <th>delinq_amnt</th>\n",
       "      <th>pub_rec_bankruptcies</th>\n",
       "      <th>tax_liens</th>\n",
       "    </tr>\n",
       "  </thead>\n",
       "  <tbody>\n",
       "    <tr>\n",
       "      <th>0</th>\n",
       "      <td>1077501</td>\n",
       "      <td>1296599</td>\n",
       "      <td>5000</td>\n",
       "      <td>5000</td>\n",
       "      <td>4975.0</td>\n",
       "      <td>36 months</td>\n",
       "      <td>10.65%</td>\n",
       "      <td>162.87</td>\n",
       "      <td>B</td>\n",
       "      <td>B2</td>\n",
       "      <td>...</td>\n",
       "      <td>171.62</td>\n",
       "      <td>May-16</td>\n",
       "      <td>0.0</td>\n",
       "      <td>1</td>\n",
       "      <td>INDIVIDUAL</td>\n",
       "      <td>0</td>\n",
       "      <td>0.0</td>\n",
       "      <td>0</td>\n",
       "      <td>0.0</td>\n",
       "      <td>0.0</td>\n",
       "    </tr>\n",
       "    <tr>\n",
       "      <th>1</th>\n",
       "      <td>1077430</td>\n",
       "      <td>1314167</td>\n",
       "      <td>2500</td>\n",
       "      <td>2500</td>\n",
       "      <td>2500.0</td>\n",
       "      <td>60 months</td>\n",
       "      <td>15.27%</td>\n",
       "      <td>59.83</td>\n",
       "      <td>C</td>\n",
       "      <td>C4</td>\n",
       "      <td>...</td>\n",
       "      <td>119.66</td>\n",
       "      <td>Sep-13</td>\n",
       "      <td>0.0</td>\n",
       "      <td>1</td>\n",
       "      <td>INDIVIDUAL</td>\n",
       "      <td>0</td>\n",
       "      <td>0.0</td>\n",
       "      <td>0</td>\n",
       "      <td>0.0</td>\n",
       "      <td>0.0</td>\n",
       "    </tr>\n",
       "    <tr>\n",
       "      <th>2</th>\n",
       "      <td>1077175</td>\n",
       "      <td>1313524</td>\n",
       "      <td>2400</td>\n",
       "      <td>2400</td>\n",
       "      <td>2400.0</td>\n",
       "      <td>36 months</td>\n",
       "      <td>15.96%</td>\n",
       "      <td>84.33</td>\n",
       "      <td>C</td>\n",
       "      <td>C5</td>\n",
       "      <td>...</td>\n",
       "      <td>649.91</td>\n",
       "      <td>May-16</td>\n",
       "      <td>0.0</td>\n",
       "      <td>1</td>\n",
       "      <td>INDIVIDUAL</td>\n",
       "      <td>0</td>\n",
       "      <td>0.0</td>\n",
       "      <td>0</td>\n",
       "      <td>0.0</td>\n",
       "      <td>0.0</td>\n",
       "    </tr>\n",
       "    <tr>\n",
       "      <th>3</th>\n",
       "      <td>1076863</td>\n",
       "      <td>1277178</td>\n",
       "      <td>10000</td>\n",
       "      <td>10000</td>\n",
       "      <td>10000.0</td>\n",
       "      <td>36 months</td>\n",
       "      <td>13.49%</td>\n",
       "      <td>339.31</td>\n",
       "      <td>C</td>\n",
       "      <td>C1</td>\n",
       "      <td>...</td>\n",
       "      <td>357.48</td>\n",
       "      <td>Apr-16</td>\n",
       "      <td>0.0</td>\n",
       "      <td>1</td>\n",
       "      <td>INDIVIDUAL</td>\n",
       "      <td>0</td>\n",
       "      <td>0.0</td>\n",
       "      <td>0</td>\n",
       "      <td>0.0</td>\n",
       "      <td>0.0</td>\n",
       "    </tr>\n",
       "    <tr>\n",
       "      <th>4</th>\n",
       "      <td>1075358</td>\n",
       "      <td>1311748</td>\n",
       "      <td>3000</td>\n",
       "      <td>3000</td>\n",
       "      <td>3000.0</td>\n",
       "      <td>60 months</td>\n",
       "      <td>12.69%</td>\n",
       "      <td>67.79</td>\n",
       "      <td>B</td>\n",
       "      <td>B5</td>\n",
       "      <td>...</td>\n",
       "      <td>67.79</td>\n",
       "      <td>May-16</td>\n",
       "      <td>0.0</td>\n",
       "      <td>1</td>\n",
       "      <td>INDIVIDUAL</td>\n",
       "      <td>0</td>\n",
       "      <td>0.0</td>\n",
       "      <td>0</td>\n",
       "      <td>0.0</td>\n",
       "      <td>0.0</td>\n",
       "    </tr>\n",
       "  </tbody>\n",
       "</table>\n",
       "<p>5 rows × 53 columns</p>\n",
       "</div>"
      ],
      "text/plain": [
       "        id  member_id  loan_amnt  funded_amnt  funded_amnt_inv        term  \\\n",
       "0  1077501    1296599       5000         5000           4975.0   36 months   \n",
       "1  1077430    1314167       2500         2500           2500.0   60 months   \n",
       "2  1077175    1313524       2400         2400           2400.0   36 months   \n",
       "3  1076863    1277178      10000        10000          10000.0   36 months   \n",
       "4  1075358    1311748       3000         3000           3000.0   60 months   \n",
       "\n",
       "  int_rate  installment grade sub_grade  ... last_pymnt_amnt  \\\n",
       "0   10.65%       162.87     B        B2  ...          171.62   \n",
       "1   15.27%        59.83     C        C4  ...          119.66   \n",
       "2   15.96%        84.33     C        C5  ...          649.91   \n",
       "3   13.49%       339.31     C        C1  ...          357.48   \n",
       "4   12.69%        67.79     B        B5  ...           67.79   \n",
       "\n",
       "  last_credit_pull_d collections_12_mths_ex_med  policy_code application_type  \\\n",
       "0             May-16                        0.0            1       INDIVIDUAL   \n",
       "1             Sep-13                        0.0            1       INDIVIDUAL   \n",
       "2             May-16                        0.0            1       INDIVIDUAL   \n",
       "3             Apr-16                        0.0            1       INDIVIDUAL   \n",
       "4             May-16                        0.0            1       INDIVIDUAL   \n",
       "\n",
       "  acc_now_delinq chargeoff_within_12_mths delinq_amnt pub_rec_bankruptcies  \\\n",
       "0              0                      0.0           0                  0.0   \n",
       "1              0                      0.0           0                  0.0   \n",
       "2              0                      0.0           0                  0.0   \n",
       "3              0                      0.0           0                  0.0   \n",
       "4              0                      0.0           0                  0.0   \n",
       "\n",
       "  tax_liens  \n",
       "0       0.0  \n",
       "1       0.0  \n",
       "2       0.0  \n",
       "3       0.0  \n",
       "4       0.0  \n",
       "\n",
       "[5 rows x 53 columns]"
      ]
     },
     "execution_count": 14,
     "metadata": {},
     "output_type": "execute_result"
    }
   ],
   "source": [
    "#Changing the column data type to date format for date columns \n",
    "print(LoanData.info())\n",
    "LoanData.head()"
   ]
  },
  {
   "cell_type": "code",
   "execution_count": 15,
   "id": "f02e5a69",
   "metadata": {},
   "outputs": [],
   "source": [
    "#Changing the term column name to term_months and int_rate column name to int_rate_percent\n",
    "LoanData.rename(columns = {'term':'term_months'}, inplace = True)\n",
    "LoanData.rename(columns = {'int_rate':'int_rate_percent'}, inplace = True)\n",
    "LoanData.rename(columns = {'revol_util':'revol_util_percent'}, inplace = True)"
   ]
  },
  {
   "cell_type": "code",
   "execution_count": 16,
   "id": "e3a97c90",
   "metadata": {},
   "outputs": [],
   "source": [
    "# formating the data of column term to remove months and removing the % from the column  int_rate_percent and revol_util\n",
    "LoanData[\"int_rate_percent\"]=LoanData[\"int_rate_percent\"].str.rstrip('%')\n",
    "LoanData[\"term_months\"]=LoanData[\"term_months\"].str.rstrip(' months')\n",
    "LoanData[\"revol_util_percent\"]=LoanData[\"revol_util_percent\"].str.rstrip('%')"
   ]
  },
  {
   "cell_type": "code",
   "execution_count": 17,
   "id": "8ef8203e",
   "metadata": {},
   "outputs": [],
   "source": [
    "# Chaning data types of columns to float and int as per the data\n",
    "convert_dict = {'int_rate_percent': float,\n",
    "                'revol_util_percent': float,\n",
    "                'term_months': int }    \n",
    "LoanData = LoanData.astype(convert_dict)  "
   ]
  },
  {
   "cell_type": "code",
   "execution_count": 18,
   "id": "400979f0",
   "metadata": {},
   "outputs": [
    {
     "data": {
      "text/plain": [
       "issue_d               object\n",
       "earliest_cr_line      object\n",
       "last_pymnt_d          object\n",
       "last_credit_pull_d    object\n",
       "dtype: object"
      ]
     },
     "execution_count": 18,
     "metadata": {},
     "output_type": "execute_result"
    }
   ],
   "source": [
    "LoanData[[\"issue_d\",\"earliest_cr_line\", \"last_pymnt_d\", \"last_credit_pull_d\"]].dtypes"
   ]
  },
  {
   "cell_type": "code",
   "execution_count": 19,
   "id": "a0d7a419",
   "metadata": {},
   "outputs": [],
   "source": [
    "#converting data type to date for columns issue_d,earliest_cr_line,last_pymnt_d,last_credit_pull_d\n",
    "LoanData[[\"issue_d\",\"earliest_cr_line\", \"last_pymnt_d\", \"last_credit_pull_d\"]] = LoanData[[\"issue_d\", \"earliest_cr_line\",\"last_pymnt_d\", \"last_credit_pull_d\"]].apply(pd.to_datetime,format='%b-%y')\n"
   ]
  },
  {
   "cell_type": "code",
   "execution_count": 20,
   "id": "69173fc6",
   "metadata": {},
   "outputs": [
    {
     "data": {
      "text/plain": [
       "issue_d               datetime64[ns]\n",
       "earliest_cr_line      datetime64[ns]\n",
       "last_pymnt_d          datetime64[ns]\n",
       "last_credit_pull_d    datetime64[ns]\n",
       "dtype: object"
      ]
     },
     "execution_count": 20,
     "metadata": {},
     "output_type": "execute_result"
    }
   ],
   "source": [
    "LoanData[[\"issue_d\",\"earliest_cr_line\", \"last_pymnt_d\", \"last_credit_pull_d\"]].dtypes"
   ]
  },
  {
   "cell_type": "code",
   "execution_count": 21,
   "id": "a833cd0c",
   "metadata": {},
   "outputs": [
    {
     "data": {
      "text/html": [
       "<div>\n",
       "<style scoped>\n",
       "    .dataframe tbody tr th:only-of-type {\n",
       "        vertical-align: middle;\n",
       "    }\n",
       "\n",
       "    .dataframe tbody tr th {\n",
       "        vertical-align: top;\n",
       "    }\n",
       "\n",
       "    .dataframe thead th {\n",
       "        text-align: right;\n",
       "    }\n",
       "</style>\n",
       "<table border=\"1\" class=\"dataframe\">\n",
       "  <thead>\n",
       "    <tr style=\"text-align: right;\">\n",
       "      <th></th>\n",
       "      <th>issue_d</th>\n",
       "      <th>earliest_cr_line</th>\n",
       "      <th>last_pymnt_d</th>\n",
       "      <th>last_credit_pull_d</th>\n",
       "    </tr>\n",
       "  </thead>\n",
       "  <tbody>\n",
       "    <tr>\n",
       "      <th>0</th>\n",
       "      <td>2011-12-01</td>\n",
       "      <td>1985-01-01</td>\n",
       "      <td>2015-01-01</td>\n",
       "      <td>2016-05-01</td>\n",
       "    </tr>\n",
       "    <tr>\n",
       "      <th>1</th>\n",
       "      <td>2011-12-01</td>\n",
       "      <td>1999-04-01</td>\n",
       "      <td>2013-04-01</td>\n",
       "      <td>2013-09-01</td>\n",
       "    </tr>\n",
       "    <tr>\n",
       "      <th>2</th>\n",
       "      <td>2011-12-01</td>\n",
       "      <td>2001-11-01</td>\n",
       "      <td>2014-06-01</td>\n",
       "      <td>2016-05-01</td>\n",
       "    </tr>\n",
       "    <tr>\n",
       "      <th>3</th>\n",
       "      <td>2011-12-01</td>\n",
       "      <td>1996-02-01</td>\n",
       "      <td>2015-01-01</td>\n",
       "      <td>2016-04-01</td>\n",
       "    </tr>\n",
       "    <tr>\n",
       "      <th>4</th>\n",
       "      <td>2011-12-01</td>\n",
       "      <td>1996-01-01</td>\n",
       "      <td>2016-05-01</td>\n",
       "      <td>2016-05-01</td>\n",
       "    </tr>\n",
       "  </tbody>\n",
       "</table>\n",
       "</div>"
      ],
      "text/plain": [
       "     issue_d earliest_cr_line last_pymnt_d last_credit_pull_d\n",
       "0 2011-12-01       1985-01-01   2015-01-01         2016-05-01\n",
       "1 2011-12-01       1999-04-01   2013-04-01         2013-09-01\n",
       "2 2011-12-01       2001-11-01   2014-06-01         2016-05-01\n",
       "3 2011-12-01       1996-02-01   2015-01-01         2016-04-01\n",
       "4 2011-12-01       1996-01-01   2016-05-01         2016-05-01"
      ]
     },
     "execution_count": 21,
     "metadata": {},
     "output_type": "execute_result"
    }
   ],
   "source": [
    "LoanData[[\"issue_d\",\"earliest_cr_line\", \"last_pymnt_d\", \"last_credit_pull_d\"]].head()"
   ]
  },
  {
   "cell_type": "code",
   "execution_count": 22,
   "id": "02ee25dc",
   "metadata": {},
   "outputs": [
    {
     "data": {
      "text/plain": [
       "10+ years    8879\n",
       "< 1 year     4583\n",
       "2 years      4388\n",
       "3 years      4095\n",
       "4 years      3436\n",
       "5 years      3282\n",
       "1 year       3240\n",
       "6 years      2229\n",
       "7 years      1773\n",
       "8 years      1479\n",
       "9 years      1258\n",
       "Name: emp_length, dtype: int64"
      ]
     },
     "execution_count": 22,
     "metadata": {},
     "output_type": "execute_result"
    }
   ],
   "source": [
    "LoanData[\"emp_length\"].value_counts()"
   ]
  },
  {
   "cell_type": "code",
   "execution_count": 23,
   "id": "c8883fc2",
   "metadata": {},
   "outputs": [
    {
     "data": {
      "text/plain": [
       "id                                     int64\n",
       "member_id                              int64\n",
       "loan_amnt                              int64\n",
       "funded_amnt                            int64\n",
       "funded_amnt_inv                      float64\n",
       "term_months                            int32\n",
       "int_rate_percent                     float64\n",
       "installment                          float64\n",
       "grade                                 object\n",
       "sub_grade                             object\n",
       "emp_title                             object\n",
       "emp_length                            object\n",
       "home_ownership                        object\n",
       "annual_inc                           float64\n",
       "verification_status                   object\n",
       "issue_d                       datetime64[ns]\n",
       "loan_status                           object\n",
       "pymnt_plan                            object\n",
       "url                                   object\n",
       "desc                                  object\n",
       "purpose                               object\n",
       "title                                 object\n",
       "addr_state                            object\n",
       "dti                                  float64\n",
       "delinq_2yrs                            int64\n",
       "earliest_cr_line              datetime64[ns]\n",
       "inq_last_6mths                         int64\n",
       "open_acc                               int64\n",
       "pub_rec                                int64\n",
       "revol_bal                              int64\n",
       "revol_util_percent                   float64\n",
       "total_acc                              int64\n",
       "initial_list_status                   object\n",
       "out_prncp                            float64\n",
       "out_prncp_inv                        float64\n",
       "total_pymnt                          float64\n",
       "total_pymnt_inv                      float64\n",
       "total_rec_prncp                      float64\n",
       "total_rec_int                        float64\n",
       "total_rec_late_fee                   float64\n",
       "recoveries                           float64\n",
       "collection_recovery_fee              float64\n",
       "last_pymnt_d                  datetime64[ns]\n",
       "last_pymnt_amnt                      float64\n",
       "last_credit_pull_d            datetime64[ns]\n",
       "collections_12_mths_ex_med           float64\n",
       "policy_code                            int64\n",
       "application_type                      object\n",
       "acc_now_delinq                         int64\n",
       "chargeoff_within_12_mths             float64\n",
       "delinq_amnt                            int64\n",
       "pub_rec_bankruptcies                 float64\n",
       "tax_liens                            float64\n",
       "dtype: object"
      ]
     },
     "execution_count": 23,
     "metadata": {},
     "output_type": "execute_result"
    }
   ],
   "source": [
    "LoanData.dtypes"
   ]
  },
  {
   "cell_type": "code",
   "execution_count": 24,
   "id": "ff38cce9",
   "metadata": {},
   "outputs": [
    {
     "data": {
      "text/html": [
       "<div>\n",
       "<style scoped>\n",
       "    .dataframe tbody tr th:only-of-type {\n",
       "        vertical-align: middle;\n",
       "    }\n",
       "\n",
       "    .dataframe tbody tr th {\n",
       "        vertical-align: top;\n",
       "    }\n",
       "\n",
       "    .dataframe thead th {\n",
       "        text-align: right;\n",
       "    }\n",
       "</style>\n",
       "<table border=\"1\" class=\"dataframe\">\n",
       "  <thead>\n",
       "    <tr style=\"text-align: right;\">\n",
       "      <th></th>\n",
       "      <th>id</th>\n",
       "      <th>member_id</th>\n",
       "      <th>loan_amnt</th>\n",
       "      <th>funded_amnt</th>\n",
       "      <th>funded_amnt_inv</th>\n",
       "      <th>term_months</th>\n",
       "      <th>int_rate_percent</th>\n",
       "      <th>installment</th>\n",
       "      <th>grade</th>\n",
       "      <th>sub_grade</th>\n",
       "      <th>...</th>\n",
       "      <th>last_pymnt_amnt</th>\n",
       "      <th>last_credit_pull_d</th>\n",
       "      <th>collections_12_mths_ex_med</th>\n",
       "      <th>policy_code</th>\n",
       "      <th>application_type</th>\n",
       "      <th>acc_now_delinq</th>\n",
       "      <th>chargeoff_within_12_mths</th>\n",
       "      <th>delinq_amnt</th>\n",
       "      <th>pub_rec_bankruptcies</th>\n",
       "      <th>tax_liens</th>\n",
       "    </tr>\n",
       "  </thead>\n",
       "  <tbody>\n",
       "    <tr>\n",
       "      <th>0</th>\n",
       "      <td>1077501</td>\n",
       "      <td>1296599</td>\n",
       "      <td>5000</td>\n",
       "      <td>5000</td>\n",
       "      <td>4975.0</td>\n",
       "      <td>36</td>\n",
       "      <td>10.65</td>\n",
       "      <td>162.87</td>\n",
       "      <td>B</td>\n",
       "      <td>B2</td>\n",
       "      <td>...</td>\n",
       "      <td>171.62</td>\n",
       "      <td>2016-05-01</td>\n",
       "      <td>0.0</td>\n",
       "      <td>1</td>\n",
       "      <td>INDIVIDUAL</td>\n",
       "      <td>0</td>\n",
       "      <td>0.0</td>\n",
       "      <td>0</td>\n",
       "      <td>0.0</td>\n",
       "      <td>0.0</td>\n",
       "    </tr>\n",
       "    <tr>\n",
       "      <th>1</th>\n",
       "      <td>1077430</td>\n",
       "      <td>1314167</td>\n",
       "      <td>2500</td>\n",
       "      <td>2500</td>\n",
       "      <td>2500.0</td>\n",
       "      <td>60</td>\n",
       "      <td>15.27</td>\n",
       "      <td>59.83</td>\n",
       "      <td>C</td>\n",
       "      <td>C4</td>\n",
       "      <td>...</td>\n",
       "      <td>119.66</td>\n",
       "      <td>2013-09-01</td>\n",
       "      <td>0.0</td>\n",
       "      <td>1</td>\n",
       "      <td>INDIVIDUAL</td>\n",
       "      <td>0</td>\n",
       "      <td>0.0</td>\n",
       "      <td>0</td>\n",
       "      <td>0.0</td>\n",
       "      <td>0.0</td>\n",
       "    </tr>\n",
       "    <tr>\n",
       "      <th>2</th>\n",
       "      <td>1077175</td>\n",
       "      <td>1313524</td>\n",
       "      <td>2400</td>\n",
       "      <td>2400</td>\n",
       "      <td>2400.0</td>\n",
       "      <td>36</td>\n",
       "      <td>15.96</td>\n",
       "      <td>84.33</td>\n",
       "      <td>C</td>\n",
       "      <td>C5</td>\n",
       "      <td>...</td>\n",
       "      <td>649.91</td>\n",
       "      <td>2016-05-01</td>\n",
       "      <td>0.0</td>\n",
       "      <td>1</td>\n",
       "      <td>INDIVIDUAL</td>\n",
       "      <td>0</td>\n",
       "      <td>0.0</td>\n",
       "      <td>0</td>\n",
       "      <td>0.0</td>\n",
       "      <td>0.0</td>\n",
       "    </tr>\n",
       "    <tr>\n",
       "      <th>3</th>\n",
       "      <td>1076863</td>\n",
       "      <td>1277178</td>\n",
       "      <td>10000</td>\n",
       "      <td>10000</td>\n",
       "      <td>10000.0</td>\n",
       "      <td>36</td>\n",
       "      <td>13.49</td>\n",
       "      <td>339.31</td>\n",
       "      <td>C</td>\n",
       "      <td>C1</td>\n",
       "      <td>...</td>\n",
       "      <td>357.48</td>\n",
       "      <td>2016-04-01</td>\n",
       "      <td>0.0</td>\n",
       "      <td>1</td>\n",
       "      <td>INDIVIDUAL</td>\n",
       "      <td>0</td>\n",
       "      <td>0.0</td>\n",
       "      <td>0</td>\n",
       "      <td>0.0</td>\n",
       "      <td>0.0</td>\n",
       "    </tr>\n",
       "    <tr>\n",
       "      <th>4</th>\n",
       "      <td>1075358</td>\n",
       "      <td>1311748</td>\n",
       "      <td>3000</td>\n",
       "      <td>3000</td>\n",
       "      <td>3000.0</td>\n",
       "      <td>60</td>\n",
       "      <td>12.69</td>\n",
       "      <td>67.79</td>\n",
       "      <td>B</td>\n",
       "      <td>B5</td>\n",
       "      <td>...</td>\n",
       "      <td>67.79</td>\n",
       "      <td>2016-05-01</td>\n",
       "      <td>0.0</td>\n",
       "      <td>1</td>\n",
       "      <td>INDIVIDUAL</td>\n",
       "      <td>0</td>\n",
       "      <td>0.0</td>\n",
       "      <td>0</td>\n",
       "      <td>0.0</td>\n",
       "      <td>0.0</td>\n",
       "    </tr>\n",
       "  </tbody>\n",
       "</table>\n",
       "<p>5 rows × 53 columns</p>\n",
       "</div>"
      ],
      "text/plain": [
       "        id  member_id  loan_amnt  funded_amnt  funded_amnt_inv  term_months  \\\n",
       "0  1077501    1296599       5000         5000           4975.0           36   \n",
       "1  1077430    1314167       2500         2500           2500.0           60   \n",
       "2  1077175    1313524       2400         2400           2400.0           36   \n",
       "3  1076863    1277178      10000        10000          10000.0           36   \n",
       "4  1075358    1311748       3000         3000           3000.0           60   \n",
       "\n",
       "   int_rate_percent  installment grade sub_grade  ... last_pymnt_amnt  \\\n",
       "0             10.65       162.87     B        B2  ...          171.62   \n",
       "1             15.27        59.83     C        C4  ...          119.66   \n",
       "2             15.96        84.33     C        C5  ...          649.91   \n",
       "3             13.49       339.31     C        C1  ...          357.48   \n",
       "4             12.69        67.79     B        B5  ...           67.79   \n",
       "\n",
       "  last_credit_pull_d collections_12_mths_ex_med  policy_code application_type  \\\n",
       "0         2016-05-01                        0.0            1       INDIVIDUAL   \n",
       "1         2013-09-01                        0.0            1       INDIVIDUAL   \n",
       "2         2016-05-01                        0.0            1       INDIVIDUAL   \n",
       "3         2016-04-01                        0.0            1       INDIVIDUAL   \n",
       "4         2016-05-01                        0.0            1       INDIVIDUAL   \n",
       "\n",
       "  acc_now_delinq chargeoff_within_12_mths delinq_amnt pub_rec_bankruptcies  \\\n",
       "0              0                      0.0           0                  0.0   \n",
       "1              0                      0.0           0                  0.0   \n",
       "2              0                      0.0           0                  0.0   \n",
       "3              0                      0.0           0                  0.0   \n",
       "4              0                      0.0           0                  0.0   \n",
       "\n",
       "  tax_liens  \n",
       "0       0.0  \n",
       "1       0.0  \n",
       "2       0.0  \n",
       "3       0.0  \n",
       "4       0.0  \n",
       "\n",
       "[5 rows x 53 columns]"
      ]
     },
     "execution_count": 24,
     "metadata": {},
     "output_type": "execute_result"
    }
   ],
   "source": [
    "LoanData.head()"
   ]
  },
  {
   "cell_type": "markdown",
   "id": "f03be43b",
   "metadata": {},
   "source": [
    " # Data sanity checks\n",
    " - loan_amnt should be always greater than funded_amnt\n",
    " - loan_amnt should be always greater than funded_amnt_inv\n",
    " - int_rate_percent should be greater than 0 and less than 100\n"
   ]
  },
  {
   "cell_type": "code",
   "execution_count": 25,
   "id": "ff80c81e",
   "metadata": {},
   "outputs": [
    {
     "data": {
      "text/html": [
       "<div>\n",
       "<style scoped>\n",
       "    .dataframe tbody tr th:only-of-type {\n",
       "        vertical-align: middle;\n",
       "    }\n",
       "\n",
       "    .dataframe tbody tr th {\n",
       "        vertical-align: top;\n",
       "    }\n",
       "\n",
       "    .dataframe thead th {\n",
       "        text-align: right;\n",
       "    }\n",
       "</style>\n",
       "<table border=\"1\" class=\"dataframe\">\n",
       "  <thead>\n",
       "    <tr style=\"text-align: right;\">\n",
       "      <th></th>\n",
       "      <th>id</th>\n",
       "      <th>member_id</th>\n",
       "      <th>loan_amnt</th>\n",
       "      <th>funded_amnt</th>\n",
       "      <th>funded_amnt_inv</th>\n",
       "      <th>term_months</th>\n",
       "      <th>int_rate_percent</th>\n",
       "      <th>installment</th>\n",
       "      <th>grade</th>\n",
       "      <th>sub_grade</th>\n",
       "      <th>...</th>\n",
       "      <th>last_pymnt_amnt</th>\n",
       "      <th>last_credit_pull_d</th>\n",
       "      <th>collections_12_mths_ex_med</th>\n",
       "      <th>policy_code</th>\n",
       "      <th>application_type</th>\n",
       "      <th>acc_now_delinq</th>\n",
       "      <th>chargeoff_within_12_mths</th>\n",
       "      <th>delinq_amnt</th>\n",
       "      <th>pub_rec_bankruptcies</th>\n",
       "      <th>tax_liens</th>\n",
       "    </tr>\n",
       "  </thead>\n",
       "  <tbody>\n",
       "  </tbody>\n",
       "</table>\n",
       "<p>0 rows × 53 columns</p>\n",
       "</div>"
      ],
      "text/plain": [
       "Empty DataFrame\n",
       "Columns: [id, member_id, loan_amnt, funded_amnt, funded_amnt_inv, term_months, int_rate_percent, installment, grade, sub_grade, emp_title, emp_length, home_ownership, annual_inc, verification_status, issue_d, loan_status, pymnt_plan, url, desc, purpose, title, addr_state, dti, delinq_2yrs, earliest_cr_line, inq_last_6mths, open_acc, pub_rec, revol_bal, revol_util_percent, total_acc, initial_list_status, out_prncp, out_prncp_inv, total_pymnt, total_pymnt_inv, total_rec_prncp, total_rec_int, total_rec_late_fee, recoveries, collection_recovery_fee, last_pymnt_d, last_pymnt_amnt, last_credit_pull_d, collections_12_mths_ex_med, policy_code, application_type, acc_now_delinq, chargeoff_within_12_mths, delinq_amnt, pub_rec_bankruptcies, tax_liens]\n",
       "Index: []\n",
       "\n",
       "[0 rows x 53 columns]"
      ]
     },
     "execution_count": 25,
     "metadata": {},
     "output_type": "execute_result"
    }
   ],
   "source": [
    "LoanData[LoanData[\"loan_amnt\"]<LoanData[\"funded_amnt\"]]"
   ]
  },
  {
   "cell_type": "code",
   "execution_count": 26,
   "id": "f9c3d3b3",
   "metadata": {},
   "outputs": [
    {
     "data": {
      "text/html": [
       "<div>\n",
       "<style scoped>\n",
       "    .dataframe tbody tr th:only-of-type {\n",
       "        vertical-align: middle;\n",
       "    }\n",
       "\n",
       "    .dataframe tbody tr th {\n",
       "        vertical-align: top;\n",
       "    }\n",
       "\n",
       "    .dataframe thead th {\n",
       "        text-align: right;\n",
       "    }\n",
       "</style>\n",
       "<table border=\"1\" class=\"dataframe\">\n",
       "  <thead>\n",
       "    <tr style=\"text-align: right;\">\n",
       "      <th></th>\n",
       "      <th>id</th>\n",
       "      <th>member_id</th>\n",
       "      <th>loan_amnt</th>\n",
       "      <th>funded_amnt</th>\n",
       "      <th>funded_amnt_inv</th>\n",
       "      <th>term_months</th>\n",
       "      <th>int_rate_percent</th>\n",
       "      <th>installment</th>\n",
       "      <th>grade</th>\n",
       "      <th>sub_grade</th>\n",
       "      <th>...</th>\n",
       "      <th>last_pymnt_amnt</th>\n",
       "      <th>last_credit_pull_d</th>\n",
       "      <th>collections_12_mths_ex_med</th>\n",
       "      <th>policy_code</th>\n",
       "      <th>application_type</th>\n",
       "      <th>acc_now_delinq</th>\n",
       "      <th>chargeoff_within_12_mths</th>\n",
       "      <th>delinq_amnt</th>\n",
       "      <th>pub_rec_bankruptcies</th>\n",
       "      <th>tax_liens</th>\n",
       "    </tr>\n",
       "  </thead>\n",
       "  <tbody>\n",
       "  </tbody>\n",
       "</table>\n",
       "<p>0 rows × 53 columns</p>\n",
       "</div>"
      ],
      "text/plain": [
       "Empty DataFrame\n",
       "Columns: [id, member_id, loan_amnt, funded_amnt, funded_amnt_inv, term_months, int_rate_percent, installment, grade, sub_grade, emp_title, emp_length, home_ownership, annual_inc, verification_status, issue_d, loan_status, pymnt_plan, url, desc, purpose, title, addr_state, dti, delinq_2yrs, earliest_cr_line, inq_last_6mths, open_acc, pub_rec, revol_bal, revol_util_percent, total_acc, initial_list_status, out_prncp, out_prncp_inv, total_pymnt, total_pymnt_inv, total_rec_prncp, total_rec_int, total_rec_late_fee, recoveries, collection_recovery_fee, last_pymnt_d, last_pymnt_amnt, last_credit_pull_d, collections_12_mths_ex_med, policy_code, application_type, acc_now_delinq, chargeoff_within_12_mths, delinq_amnt, pub_rec_bankruptcies, tax_liens]\n",
       "Index: []\n",
       "\n",
       "[0 rows x 53 columns]"
      ]
     },
     "execution_count": 26,
     "metadata": {},
     "output_type": "execute_result"
    }
   ],
   "source": [
    "LoanData[LoanData[\"loan_amnt\"]<LoanData[\"funded_amnt_inv\"]]"
   ]
  },
  {
   "cell_type": "code",
   "execution_count": 27,
   "id": "accab8b0",
   "metadata": {},
   "outputs": [
    {
     "data": {
      "text/html": [
       "<div>\n",
       "<style scoped>\n",
       "    .dataframe tbody tr th:only-of-type {\n",
       "        vertical-align: middle;\n",
       "    }\n",
       "\n",
       "    .dataframe tbody tr th {\n",
       "        vertical-align: top;\n",
       "    }\n",
       "\n",
       "    .dataframe thead th {\n",
       "        text-align: right;\n",
       "    }\n",
       "</style>\n",
       "<table border=\"1\" class=\"dataframe\">\n",
       "  <thead>\n",
       "    <tr style=\"text-align: right;\">\n",
       "      <th></th>\n",
       "      <th>id</th>\n",
       "      <th>member_id</th>\n",
       "      <th>loan_amnt</th>\n",
       "      <th>funded_amnt</th>\n",
       "      <th>funded_amnt_inv</th>\n",
       "      <th>term_months</th>\n",
       "      <th>int_rate_percent</th>\n",
       "      <th>installment</th>\n",
       "      <th>grade</th>\n",
       "      <th>sub_grade</th>\n",
       "      <th>...</th>\n",
       "      <th>last_pymnt_amnt</th>\n",
       "      <th>last_credit_pull_d</th>\n",
       "      <th>collections_12_mths_ex_med</th>\n",
       "      <th>policy_code</th>\n",
       "      <th>application_type</th>\n",
       "      <th>acc_now_delinq</th>\n",
       "      <th>chargeoff_within_12_mths</th>\n",
       "      <th>delinq_amnt</th>\n",
       "      <th>pub_rec_bankruptcies</th>\n",
       "      <th>tax_liens</th>\n",
       "    </tr>\n",
       "  </thead>\n",
       "  <tbody>\n",
       "  </tbody>\n",
       "</table>\n",
       "<p>0 rows × 53 columns</p>\n",
       "</div>"
      ],
      "text/plain": [
       "Empty DataFrame\n",
       "Columns: [id, member_id, loan_amnt, funded_amnt, funded_amnt_inv, term_months, int_rate_percent, installment, grade, sub_grade, emp_title, emp_length, home_ownership, annual_inc, verification_status, issue_d, loan_status, pymnt_plan, url, desc, purpose, title, addr_state, dti, delinq_2yrs, earliest_cr_line, inq_last_6mths, open_acc, pub_rec, revol_bal, revol_util_percent, total_acc, initial_list_status, out_prncp, out_prncp_inv, total_pymnt, total_pymnt_inv, total_rec_prncp, total_rec_int, total_rec_late_fee, recoveries, collection_recovery_fee, last_pymnt_d, last_pymnt_amnt, last_credit_pull_d, collections_12_mths_ex_med, policy_code, application_type, acc_now_delinq, chargeoff_within_12_mths, delinq_amnt, pub_rec_bankruptcies, tax_liens]\n",
       "Index: []\n",
       "\n",
       "[0 rows x 53 columns]"
      ]
     },
     "execution_count": 27,
     "metadata": {},
     "output_type": "execute_result"
    }
   ],
   "source": [
    "LoanData[LoanData[\"funded_amnt\"]<LoanData[\"funded_amnt_inv\"]]"
   ]
  },
  {
   "cell_type": "code",
   "execution_count": 28,
   "id": "122d68d4",
   "metadata": {},
   "outputs": [
    {
     "data": {
      "text/html": [
       "<div>\n",
       "<style scoped>\n",
       "    .dataframe tbody tr th:only-of-type {\n",
       "        vertical-align: middle;\n",
       "    }\n",
       "\n",
       "    .dataframe tbody tr th {\n",
       "        vertical-align: top;\n",
       "    }\n",
       "\n",
       "    .dataframe thead th {\n",
       "        text-align: right;\n",
       "    }\n",
       "</style>\n",
       "<table border=\"1\" class=\"dataframe\">\n",
       "  <thead>\n",
       "    <tr style=\"text-align: right;\">\n",
       "      <th></th>\n",
       "      <th>id</th>\n",
       "      <th>member_id</th>\n",
       "      <th>loan_amnt</th>\n",
       "      <th>funded_amnt</th>\n",
       "      <th>funded_amnt_inv</th>\n",
       "      <th>term_months</th>\n",
       "      <th>int_rate_percent</th>\n",
       "      <th>installment</th>\n",
       "      <th>grade</th>\n",
       "      <th>sub_grade</th>\n",
       "      <th>...</th>\n",
       "      <th>last_pymnt_amnt</th>\n",
       "      <th>last_credit_pull_d</th>\n",
       "      <th>collections_12_mths_ex_med</th>\n",
       "      <th>policy_code</th>\n",
       "      <th>application_type</th>\n",
       "      <th>acc_now_delinq</th>\n",
       "      <th>chargeoff_within_12_mths</th>\n",
       "      <th>delinq_amnt</th>\n",
       "      <th>pub_rec_bankruptcies</th>\n",
       "      <th>tax_liens</th>\n",
       "    </tr>\n",
       "  </thead>\n",
       "  <tbody>\n",
       "  </tbody>\n",
       "</table>\n",
       "<p>0 rows × 53 columns</p>\n",
       "</div>"
      ],
      "text/plain": [
       "Empty DataFrame\n",
       "Columns: [id, member_id, loan_amnt, funded_amnt, funded_amnt_inv, term_months, int_rate_percent, installment, grade, sub_grade, emp_title, emp_length, home_ownership, annual_inc, verification_status, issue_d, loan_status, pymnt_plan, url, desc, purpose, title, addr_state, dti, delinq_2yrs, earliest_cr_line, inq_last_6mths, open_acc, pub_rec, revol_bal, revol_util_percent, total_acc, initial_list_status, out_prncp, out_prncp_inv, total_pymnt, total_pymnt_inv, total_rec_prncp, total_rec_int, total_rec_late_fee, recoveries, collection_recovery_fee, last_pymnt_d, last_pymnt_amnt, last_credit_pull_d, collections_12_mths_ex_med, policy_code, application_type, acc_now_delinq, chargeoff_within_12_mths, delinq_amnt, pub_rec_bankruptcies, tax_liens]\n",
       "Index: []\n",
       "\n",
       "[0 rows x 53 columns]"
      ]
     },
     "execution_count": 28,
     "metadata": {},
     "output_type": "execute_result"
    }
   ],
   "source": [
    "LoanData[(LoanData[\"int_rate_percent\"]>100) | (LoanData[\"int_rate_percent\"]<0)]"
   ]
  },
  {
   "cell_type": "code",
   "execution_count": 29,
   "id": "4e059484",
   "metadata": {},
   "outputs": [
    {
     "data": {
      "text/plain": [
       "Fully Paid     32950\n",
       "Charged Off     5627\n",
       "Current         1140\n",
       "Name: loan_status, dtype: int64"
      ]
     },
     "execution_count": 29,
     "metadata": {},
     "output_type": "execute_result"
    }
   ],
   "source": [
    "LoanData[\"loan_status\"].value_counts()"
   ]
  },
  {
   "cell_type": "markdown",
   "id": "e296925c",
   "metadata": {},
   "source": [
    "#### As the analysis is based on the loans which are fully paid or charged off and it is very hard to say about the current loans in progress\n",
    "#### Hence deleting the rows with loan_status as Current \n",
    "#### Before deleting 39717 rows and total row count after deleting Current (loan_status) to be 39717-1140\n"
   ]
  },
  {
   "cell_type": "code",
   "execution_count": 30,
   "id": "db06361f",
   "metadata": {},
   "outputs": [
    {
     "data": {
      "text/html": [
       "<div>\n",
       "<style scoped>\n",
       "    .dataframe tbody tr th:only-of-type {\n",
       "        vertical-align: middle;\n",
       "    }\n",
       "\n",
       "    .dataframe tbody tr th {\n",
       "        vertical-align: top;\n",
       "    }\n",
       "\n",
       "    .dataframe thead th {\n",
       "        text-align: right;\n",
       "    }\n",
       "</style>\n",
       "<table border=\"1\" class=\"dataframe\">\n",
       "  <thead>\n",
       "    <tr style=\"text-align: right;\">\n",
       "      <th></th>\n",
       "      <th>id</th>\n",
       "      <th>member_id</th>\n",
       "      <th>loan_amnt</th>\n",
       "      <th>funded_amnt</th>\n",
       "      <th>funded_amnt_inv</th>\n",
       "      <th>term_months</th>\n",
       "      <th>int_rate_percent</th>\n",
       "      <th>installment</th>\n",
       "      <th>grade</th>\n",
       "      <th>sub_grade</th>\n",
       "      <th>...</th>\n",
       "      <th>last_pymnt_amnt</th>\n",
       "      <th>last_credit_pull_d</th>\n",
       "      <th>collections_12_mths_ex_med</th>\n",
       "      <th>policy_code</th>\n",
       "      <th>application_type</th>\n",
       "      <th>acc_now_delinq</th>\n",
       "      <th>chargeoff_within_12_mths</th>\n",
       "      <th>delinq_amnt</th>\n",
       "      <th>pub_rec_bankruptcies</th>\n",
       "      <th>tax_liens</th>\n",
       "    </tr>\n",
       "  </thead>\n",
       "  <tbody>\n",
       "    <tr>\n",
       "      <th>4</th>\n",
       "      <td>1075358</td>\n",
       "      <td>1311748</td>\n",
       "      <td>3000</td>\n",
       "      <td>3000</td>\n",
       "      <td>3000.00000</td>\n",
       "      <td>60</td>\n",
       "      <td>12.69</td>\n",
       "      <td>67.79</td>\n",
       "      <td>B</td>\n",
       "      <td>B5</td>\n",
       "      <td>...</td>\n",
       "      <td>67.79</td>\n",
       "      <td>2016-05-01</td>\n",
       "      <td>0.0</td>\n",
       "      <td>1</td>\n",
       "      <td>INDIVIDUAL</td>\n",
       "      <td>0</td>\n",
       "      <td>0.0</td>\n",
       "      <td>0</td>\n",
       "      <td>0.0</td>\n",
       "      <td>0.0</td>\n",
       "    </tr>\n",
       "    <tr>\n",
       "      <th>32</th>\n",
       "      <td>1065420</td>\n",
       "      <td>1299514</td>\n",
       "      <td>10000</td>\n",
       "      <td>10000</td>\n",
       "      <td>9975.00000</td>\n",
       "      <td>60</td>\n",
       "      <td>15.96</td>\n",
       "      <td>242.97</td>\n",
       "      <td>C</td>\n",
       "      <td>C5</td>\n",
       "      <td>...</td>\n",
       "      <td>242.97</td>\n",
       "      <td>2016-04-01</td>\n",
       "      <td>0.0</td>\n",
       "      <td>1</td>\n",
       "      <td>INDIVIDUAL</td>\n",
       "      <td>0</td>\n",
       "      <td>0.0</td>\n",
       "      <td>0</td>\n",
       "      <td>0.0</td>\n",
       "      <td>0.0</td>\n",
       "    </tr>\n",
       "    <tr>\n",
       "      <th>39</th>\n",
       "      <td>1069346</td>\n",
       "      <td>1304237</td>\n",
       "      <td>12500</td>\n",
       "      <td>12500</td>\n",
       "      <td>12475.00000</td>\n",
       "      <td>60</td>\n",
       "      <td>12.69</td>\n",
       "      <td>282.44</td>\n",
       "      <td>B</td>\n",
       "      <td>B5</td>\n",
       "      <td>...</td>\n",
       "      <td>282.44</td>\n",
       "      <td>2016-05-01</td>\n",
       "      <td>0.0</td>\n",
       "      <td>1</td>\n",
       "      <td>INDIVIDUAL</td>\n",
       "      <td>0</td>\n",
       "      <td>0.0</td>\n",
       "      <td>0</td>\n",
       "      <td>0.0</td>\n",
       "      <td>0.0</td>\n",
       "    </tr>\n",
       "    <tr>\n",
       "      <th>86</th>\n",
       "      <td>1063958</td>\n",
       "      <td>1297940</td>\n",
       "      <td>14000</td>\n",
       "      <td>14000</td>\n",
       "      <td>13975.00000</td>\n",
       "      <td>60</td>\n",
       "      <td>17.27</td>\n",
       "      <td>349.98</td>\n",
       "      <td>D</td>\n",
       "      <td>D3</td>\n",
       "      <td>...</td>\n",
       "      <td>349.98</td>\n",
       "      <td>2016-05-01</td>\n",
       "      <td>0.0</td>\n",
       "      <td>1</td>\n",
       "      <td>INDIVIDUAL</td>\n",
       "      <td>0</td>\n",
       "      <td>0.0</td>\n",
       "      <td>0</td>\n",
       "      <td>0.0</td>\n",
       "      <td>0.0</td>\n",
       "    </tr>\n",
       "    <tr>\n",
       "      <th>95</th>\n",
       "      <td>1068575</td>\n",
       "      <td>1303001</td>\n",
       "      <td>15300</td>\n",
       "      <td>15300</td>\n",
       "      <td>15275.00000</td>\n",
       "      <td>60</td>\n",
       "      <td>22.06</td>\n",
       "      <td>423.10</td>\n",
       "      <td>F</td>\n",
       "      <td>F4</td>\n",
       "      <td>...</td>\n",
       "      <td>423.10</td>\n",
       "      <td>2016-05-01</td>\n",
       "      <td>0.0</td>\n",
       "      <td>1</td>\n",
       "      <td>INDIVIDUAL</td>\n",
       "      <td>0</td>\n",
       "      <td>0.0</td>\n",
       "      <td>0</td>\n",
       "      <td>0.0</td>\n",
       "      <td>0.0</td>\n",
       "    </tr>\n",
       "    <tr>\n",
       "      <th>...</th>\n",
       "      <td>...</td>\n",
       "      <td>...</td>\n",
       "      <td>...</td>\n",
       "      <td>...</td>\n",
       "      <td>...</td>\n",
       "      <td>...</td>\n",
       "      <td>...</td>\n",
       "      <td>...</td>\n",
       "      <td>...</td>\n",
       "      <td>...</td>\n",
       "      <td>...</td>\n",
       "      <td>...</td>\n",
       "      <td>...</td>\n",
       "      <td>...</td>\n",
       "      <td>...</td>\n",
       "      <td>...</td>\n",
       "      <td>...</td>\n",
       "      <td>...</td>\n",
       "      <td>...</td>\n",
       "      <td>...</td>\n",
       "      <td>...</td>\n",
       "    </tr>\n",
       "    <tr>\n",
       "      <th>15972</th>\n",
       "      <td>725556</td>\n",
       "      <td>920821</td>\n",
       "      <td>10400</td>\n",
       "      <td>10400</td>\n",
       "      <td>10400.00000</td>\n",
       "      <td>60</td>\n",
       "      <td>6.00</td>\n",
       "      <td>218.99</td>\n",
       "      <td>E</td>\n",
       "      <td>E3</td>\n",
       "      <td>...</td>\n",
       "      <td>218.99</td>\n",
       "      <td>2016-05-01</td>\n",
       "      <td>0.0</td>\n",
       "      <td>1</td>\n",
       "      <td>INDIVIDUAL</td>\n",
       "      <td>0</td>\n",
       "      <td>0.0</td>\n",
       "      <td>0</td>\n",
       "      <td>0.0</td>\n",
       "      <td>0.0</td>\n",
       "    </tr>\n",
       "    <tr>\n",
       "      <th>15981</th>\n",
       "      <td>738420</td>\n",
       "      <td>935790</td>\n",
       "      <td>6000</td>\n",
       "      <td>6000</td>\n",
       "      <td>6000.00000</td>\n",
       "      <td>60</td>\n",
       "      <td>10.37</td>\n",
       "      <td>128.58</td>\n",
       "      <td>B</td>\n",
       "      <td>B3</td>\n",
       "      <td>...</td>\n",
       "      <td>128.58</td>\n",
       "      <td>2016-05-01</td>\n",
       "      <td>0.0</td>\n",
       "      <td>1</td>\n",
       "      <td>INDIVIDUAL</td>\n",
       "      <td>0</td>\n",
       "      <td>0.0</td>\n",
       "      <td>0</td>\n",
       "      <td>0.0</td>\n",
       "      <td>0.0</td>\n",
       "    </tr>\n",
       "    <tr>\n",
       "      <th>16361</th>\n",
       "      <td>733695</td>\n",
       "      <td>930086</td>\n",
       "      <td>19200</td>\n",
       "      <td>19200</td>\n",
       "      <td>18847.76292</td>\n",
       "      <td>60</td>\n",
       "      <td>10.74</td>\n",
       "      <td>414.97</td>\n",
       "      <td>B</td>\n",
       "      <td>B4</td>\n",
       "      <td>...</td>\n",
       "      <td>414.97</td>\n",
       "      <td>2016-05-01</td>\n",
       "      <td>0.0</td>\n",
       "      <td>1</td>\n",
       "      <td>INDIVIDUAL</td>\n",
       "      <td>0</td>\n",
       "      <td>0.0</td>\n",
       "      <td>0</td>\n",
       "      <td>0.0</td>\n",
       "      <td>0.0</td>\n",
       "    </tr>\n",
       "    <tr>\n",
       "      <th>16609</th>\n",
       "      <td>728422</td>\n",
       "      <td>924106</td>\n",
       "      <td>9350</td>\n",
       "      <td>9350</td>\n",
       "      <td>9350.00000</td>\n",
       "      <td>60</td>\n",
       "      <td>10.00</td>\n",
       "      <td>198.66</td>\n",
       "      <td>B</td>\n",
       "      <td>B2</td>\n",
       "      <td>...</td>\n",
       "      <td>198.66</td>\n",
       "      <td>2016-04-01</td>\n",
       "      <td>0.0</td>\n",
       "      <td>1</td>\n",
       "      <td>INDIVIDUAL</td>\n",
       "      <td>0</td>\n",
       "      <td>0.0</td>\n",
       "      <td>0</td>\n",
       "      <td>0.0</td>\n",
       "      <td>0.0</td>\n",
       "    </tr>\n",
       "    <tr>\n",
       "      <th>18215</th>\n",
       "      <td>702171</td>\n",
       "      <td>894029</td>\n",
       "      <td>9000</td>\n",
       "      <td>9000</td>\n",
       "      <td>9000.00000</td>\n",
       "      <td>60</td>\n",
       "      <td>13.06</td>\n",
       "      <td>205.06</td>\n",
       "      <td>C</td>\n",
       "      <td>C2</td>\n",
       "      <td>...</td>\n",
       "      <td>205.06</td>\n",
       "      <td>2016-05-01</td>\n",
       "      <td>0.0</td>\n",
       "      <td>1</td>\n",
       "      <td>INDIVIDUAL</td>\n",
       "      <td>0</td>\n",
       "      <td>0.0</td>\n",
       "      <td>0</td>\n",
       "      <td>0.0</td>\n",
       "      <td>0.0</td>\n",
       "    </tr>\n",
       "  </tbody>\n",
       "</table>\n",
       "<p>1140 rows × 53 columns</p>\n",
       "</div>"
      ],
      "text/plain": [
       "            id  member_id  loan_amnt  funded_amnt  funded_amnt_inv  \\\n",
       "4      1075358    1311748       3000         3000       3000.00000   \n",
       "32     1065420    1299514      10000        10000       9975.00000   \n",
       "39     1069346    1304237      12500        12500      12475.00000   \n",
       "86     1063958    1297940      14000        14000      13975.00000   \n",
       "95     1068575    1303001      15300        15300      15275.00000   \n",
       "...        ...        ...        ...          ...              ...   \n",
       "15972   725556     920821      10400        10400      10400.00000   \n",
       "15981   738420     935790       6000         6000       6000.00000   \n",
       "16361   733695     930086      19200        19200      18847.76292   \n",
       "16609   728422     924106       9350         9350       9350.00000   \n",
       "18215   702171     894029       9000         9000       9000.00000   \n",
       "\n",
       "       term_months  int_rate_percent  installment grade sub_grade  ...  \\\n",
       "4               60             12.69        67.79     B        B5  ...   \n",
       "32              60             15.96       242.97     C        C5  ...   \n",
       "39              60             12.69       282.44     B        B5  ...   \n",
       "86              60             17.27       349.98     D        D3  ...   \n",
       "95              60             22.06       423.10     F        F4  ...   \n",
       "...            ...               ...          ...   ...       ...  ...   \n",
       "15972           60              6.00       218.99     E        E3  ...   \n",
       "15981           60             10.37       128.58     B        B3  ...   \n",
       "16361           60             10.74       414.97     B        B4  ...   \n",
       "16609           60             10.00       198.66     B        B2  ...   \n",
       "18215           60             13.06       205.06     C        C2  ...   \n",
       "\n",
       "      last_pymnt_amnt last_credit_pull_d collections_12_mths_ex_med  \\\n",
       "4               67.79         2016-05-01                        0.0   \n",
       "32             242.97         2016-04-01                        0.0   \n",
       "39             282.44         2016-05-01                        0.0   \n",
       "86             349.98         2016-05-01                        0.0   \n",
       "95             423.10         2016-05-01                        0.0   \n",
       "...               ...                ...                        ...   \n",
       "15972          218.99         2016-05-01                        0.0   \n",
       "15981          128.58         2016-05-01                        0.0   \n",
       "16361          414.97         2016-05-01                        0.0   \n",
       "16609          198.66         2016-04-01                        0.0   \n",
       "18215          205.06         2016-05-01                        0.0   \n",
       "\n",
       "       policy_code application_type acc_now_delinq chargeoff_within_12_mths  \\\n",
       "4                1       INDIVIDUAL              0                      0.0   \n",
       "32               1       INDIVIDUAL              0                      0.0   \n",
       "39               1       INDIVIDUAL              0                      0.0   \n",
       "86               1       INDIVIDUAL              0                      0.0   \n",
       "95               1       INDIVIDUAL              0                      0.0   \n",
       "...            ...              ...            ...                      ...   \n",
       "15972            1       INDIVIDUAL              0                      0.0   \n",
       "15981            1       INDIVIDUAL              0                      0.0   \n",
       "16361            1       INDIVIDUAL              0                      0.0   \n",
       "16609            1       INDIVIDUAL              0                      0.0   \n",
       "18215            1       INDIVIDUAL              0                      0.0   \n",
       "\n",
       "      delinq_amnt pub_rec_bankruptcies tax_liens  \n",
       "4               0                  0.0       0.0  \n",
       "32              0                  0.0       0.0  \n",
       "39              0                  0.0       0.0  \n",
       "86              0                  0.0       0.0  \n",
       "95              0                  0.0       0.0  \n",
       "...           ...                  ...       ...  \n",
       "15972           0                  0.0       0.0  \n",
       "15981           0                  0.0       0.0  \n",
       "16361           0                  0.0       0.0  \n",
       "16609           0                  0.0       0.0  \n",
       "18215           0                  0.0       0.0  \n",
       "\n",
       "[1140 rows x 53 columns]"
      ]
     },
     "execution_count": 30,
     "metadata": {},
     "output_type": "execute_result"
    }
   ],
   "source": [
    "LoanData[LoanData[\"loan_status\"]==\"Current\"]"
   ]
  },
  {
   "cell_type": "code",
   "execution_count": 31,
   "id": "911c8243",
   "metadata": {},
   "outputs": [],
   "source": [
    "LoanData=LoanData[~(LoanData[\"loan_status\"]==\"Current\")]"
   ]
  },
  {
   "cell_type": "code",
   "execution_count": 32,
   "id": "494ac3fb",
   "metadata": {},
   "outputs": [
    {
     "data": {
      "text/html": [
       "<div>\n",
       "<style scoped>\n",
       "    .dataframe tbody tr th:only-of-type {\n",
       "        vertical-align: middle;\n",
       "    }\n",
       "\n",
       "    .dataframe tbody tr th {\n",
       "        vertical-align: top;\n",
       "    }\n",
       "\n",
       "    .dataframe thead th {\n",
       "        text-align: right;\n",
       "    }\n",
       "</style>\n",
       "<table border=\"1\" class=\"dataframe\">\n",
       "  <thead>\n",
       "    <tr style=\"text-align: right;\">\n",
       "      <th></th>\n",
       "      <th>id</th>\n",
       "      <th>member_id</th>\n",
       "      <th>loan_amnt</th>\n",
       "      <th>funded_amnt</th>\n",
       "      <th>funded_amnt_inv</th>\n",
       "      <th>term_months</th>\n",
       "      <th>int_rate_percent</th>\n",
       "      <th>installment</th>\n",
       "      <th>grade</th>\n",
       "      <th>sub_grade</th>\n",
       "      <th>...</th>\n",
       "      <th>last_pymnt_amnt</th>\n",
       "      <th>last_credit_pull_d</th>\n",
       "      <th>collections_12_mths_ex_med</th>\n",
       "      <th>policy_code</th>\n",
       "      <th>application_type</th>\n",
       "      <th>acc_now_delinq</th>\n",
       "      <th>chargeoff_within_12_mths</th>\n",
       "      <th>delinq_amnt</th>\n",
       "      <th>pub_rec_bankruptcies</th>\n",
       "      <th>tax_liens</th>\n",
       "    </tr>\n",
       "  </thead>\n",
       "  <tbody>\n",
       "  </tbody>\n",
       "</table>\n",
       "<p>0 rows × 53 columns</p>\n",
       "</div>"
      ],
      "text/plain": [
       "Empty DataFrame\n",
       "Columns: [id, member_id, loan_amnt, funded_amnt, funded_amnt_inv, term_months, int_rate_percent, installment, grade, sub_grade, emp_title, emp_length, home_ownership, annual_inc, verification_status, issue_d, loan_status, pymnt_plan, url, desc, purpose, title, addr_state, dti, delinq_2yrs, earliest_cr_line, inq_last_6mths, open_acc, pub_rec, revol_bal, revol_util_percent, total_acc, initial_list_status, out_prncp, out_prncp_inv, total_pymnt, total_pymnt_inv, total_rec_prncp, total_rec_int, total_rec_late_fee, recoveries, collection_recovery_fee, last_pymnt_d, last_pymnt_amnt, last_credit_pull_d, collections_12_mths_ex_med, policy_code, application_type, acc_now_delinq, chargeoff_within_12_mths, delinq_amnt, pub_rec_bankruptcies, tax_liens]\n",
       "Index: []\n",
       "\n",
       "[0 rows x 53 columns]"
      ]
     },
     "execution_count": 32,
     "metadata": {},
     "output_type": "execute_result"
    }
   ],
   "source": [
    "LoanData[LoanData[\"loan_status\"]==\"Current\"]"
   ]
  },
  {
   "cell_type": "code",
   "execution_count": 33,
   "id": "e3e74f27",
   "metadata": {},
   "outputs": [
    {
     "data": {
      "text/plain": [
       "(38577, 53)"
      ]
     },
     "execution_count": 33,
     "metadata": {},
     "output_type": "execute_result"
    }
   ],
   "source": [
    "# Expected row count after deleting rows is 38577\n",
    "LoanData.shape"
   ]
  },
  {
   "cell_type": "markdown",
   "id": "48529c11",
   "metadata": {},
   "source": [
    " #  Univariate analysis"
   ]
  },
  {
   "cell_type": "code",
   "execution_count": 35,
   "id": "c899c66c",
   "metadata": {},
   "outputs": [],
   "source": [
    "import matplotlib.pyplot as plt\n",
    "import seaborn as sns\n",
    "import warnings\n",
    "warnings.filterwarnings(\"ignore\")\n",
    "%matplotlib inline\n"
   ]
  },
  {
   "cell_type": "code",
   "execution_count": 36,
   "id": "817e4e9d",
   "metadata": {},
   "outputs": [],
   "source": [
    "LoanData_defaulters=LoanData[LoanData[\"loan_status\"]==\"Charged Off\"]\n",
    "LoanData_Fullpaid=LoanData[LoanData[\"loan_status\"]==\"Fully Paid\"]"
   ]
  },
  {
   "cell_type": "code",
   "execution_count": 37,
   "id": "23e14307",
   "metadata": {},
   "outputs": [
    {
     "data": {
      "text/plain": [
       "(5627, 53)"
      ]
     },
     "execution_count": 37,
     "metadata": {},
     "output_type": "execute_result"
    }
   ],
   "source": [
    "LoanData_defaulters.shape"
   ]
  },
  {
   "cell_type": "code",
   "execution_count": 38,
   "id": "412cbe25",
   "metadata": {},
   "outputs": [
    {
     "data": {
      "text/plain": [
       "count     5627.000000\n",
       "mean     12104.385108\n",
       "std       8085.732038\n",
       "min        900.000000\n",
       "25%       5600.000000\n",
       "50%      10000.000000\n",
       "75%      16500.000000\n",
       "max      35000.000000\n",
       "Name: loan_amnt, dtype: float64"
      ]
     },
     "execution_count": 38,
     "metadata": {},
     "output_type": "execute_result"
    }
   ],
   "source": [
    "LoanData_defaulters[\"loan_amnt\"].describe()"
   ]
  },
  {
   "cell_type": "code",
   "execution_count": 39,
   "id": "a348f6ee",
   "metadata": {},
   "outputs": [
    {
     "data": {
      "text/plain": [
       "count    32950.000000\n",
       "mean     10866.455994\n",
       "std       7199.629493\n",
       "min        500.000000\n",
       "25%       5200.000000\n",
       "50%       9600.000000\n",
       "75%      15000.000000\n",
       "max      35000.000000\n",
       "Name: loan_amnt, dtype: float64"
      ]
     },
     "execution_count": 39,
     "metadata": {},
     "output_type": "execute_result"
    }
   ],
   "source": [
    "LoanData_Fullpaid[\"loan_amnt\"].describe()"
   ]
  },
  {
   "cell_type": "code",
   "execution_count": 82,
   "id": "03b34fc8",
   "metadata": {},
   "outputs": [
    {
     "data": {
      "image/png": "[encoded data removed]",
      "text/plain": [
       "<Figure size 432x288 with 1 Axes>"
      ]
     },
     "metadata": {},
     "output_type": "display_data"
    }
   ],
   "source": [
    "# Viewing the Fully paid and Charged off loans from the given data\n",
    "plt.title(\"Comparing the paid loans and Charged off loans for period June 2007 to Dec 2011 \\n\", fontdict={'fontsize':20, 'fontweight':5, 'color':'Green'})\n",
    "sns.countplot(data=LoanData, x='loan_status', order=LoanData.loan_status.value_counts().index)\n",
    "plt.show()\n"
   ]
  },
  {
   "cell_type": "markdown",
   "id": "c68d37b8",
   "metadata": {},
   "source": [
    "#### Univariate Analysis (ordered categorical variable)- Loan applications distribution over grade for charged off loans "
   ]
  },
  {
   "cell_type": "code",
   "execution_count": 84,
   "id": "3c9cef73",
   "metadata": {},
   "outputs": [
    {
     "data": {
      "image/png": "[encoded data removed]",
      "text/plain": [
       "<Figure size 432x288 with 1 Axes>"
      ]
     },
     "metadata": {},
     "output_type": "display_data"
    }
   ],
   "source": [
    "#Bar chart for count of Charged off loans based on grades\n",
    "\n",
    "Loandata_defaulters_grades=LoanData_defaulters.groupby(['grade']).agg(count_total=(\"loan_status\",'count'))\n",
    "Loandata_defaulters_grades.reset_index(inplace=True)\n",
    "sns.barplot(data=Loandata_defaulters_grades, x= \"grade\", y= \"count_total\",hue=\"grade\")\n",
    "plt.title(\"Bar Chart of Charged off loans grouped by grades \\n\", fontdict={'fontsize':20, 'fontweight':5, 'color':'Green'})\n",
    "plt.xlabel(\"Grade\",fontdict={'fontsize':20, 'fontweight':5, 'color':'Green'})\n",
    "plt.ylabel(\"Loan Count\",fontdict={'fontsize':20, 'fontweight':5, 'color':'Green'})\n",
    "plt.show()\n"
   ]
  },
  {
   "cell_type": "markdown",
   "id": "a6579662",
   "metadata": {},
   "source": [
    "#### Univariate Analysis (ordered categorical variable)- Loan applications distribution over verification status for charged off loans "
   ]
  },
  {
   "cell_type": "code",
   "execution_count": 45,
   "id": "f75251cc",
   "metadata": {},
   "outputs": [
    {
     "data": {
      "image/png": "[encoded data removed]",
      "text/plain": [
       "<Figure size 432x288 with 1 Axes>"
      ]
     },
     "metadata": {
      "needs_background": "light"
     },
     "output_type": "display_data"
    }
   ],
   "source": [
    "#Bar chart for count of Charged off loans based on verification status\n",
    "Loandata_defaulters_grades=LoanData_defaulters.groupby(['verification_status']).agg(count_total=(\"loan_status\",'count'))\n",
    "Loandata_defaulters_grades.reset_index(inplace=True)\n",
    "sns.barplot(data=Loandata_defaulters_grades, x= \"verification_status\", y= \"count_total\",hue=\"verification_status\")\n",
    "plt.title(\"Bar Chart of Charged off loans grouped by verification status \\n\", fontdict={'fontsize':20, 'fontweight':5, 'color':'Green'})\n",
    "plt.xlabel(\"Verification Status\",fontdict={'fontsize':20, 'fontweight':5, 'color':'Green'})\n",
    "plt.ylabel(\"Loan Count\",fontdict={'fontsize':20, 'fontweight':5, 'color':'Green'})\n",
    "plt.show()\n"
   ]
  },
  {
   "cell_type": "markdown",
   "id": "69d69dcf",
   "metadata": {},
   "source": [
    "#### Univariate Analysis (Quantitative variable)- Loan count distribution for Interest rate for defaulters"
   ]
  },
  {
   "cell_type": "code",
   "execution_count": 47,
   "id": "81d199a3",
   "metadata": {},
   "outputs": [
    {
     "data": {
      "image/png": "[encoded data removed]",
      "text/plain": [
       "<Figure size 576x576 with 1 Axes>"
      ]
     },
     "metadata": {
      "needs_background": "light"
     },
     "output_type": "display_data"
    }
   ],
   "source": [
    "# Dividing the interest rate to bins and analyzing \n",
    "bins_interest=[0,6,10,14,18,22,26]\n",
    "out=pd.cut(LoanData_defaulters[\"int_rate_percent\"],bins=[0,6,10,14,18,22,26],include_lowest=True)\n",
    "ax = out.value_counts(sort=False).plot.bar(rot=0, color=\"green\", figsize=(8,8))\n",
    "plt.title(\"Count of Charged off loans based on interest rates \\n\", fontdict={'fontsize':20, 'fontweight':5, 'color':'Green'})\n",
    "plt.xlabel(\"Interest Rate Bins\",fontdict={'fontsize':20, 'fontweight':5, 'color':'Green'})\n",
    "plt.ylabel(\"Loan Count\",fontdict={'fontsize':20, 'fontweight':5, 'color':'Green'})\n",
    "plt.show()"
   ]
  },
  {
   "cell_type": "markdown",
   "id": "cdeaeab8",
   "metadata": {},
   "source": [
    "#### Univariate Analysis (Quantitative variable)- Loan count distribution for Loan Amount for defaulters"
   ]
  },
  {
   "cell_type": "code",
   "execution_count": 49,
   "id": "faa11e5c",
   "metadata": {},
   "outputs": [
    {
     "data": {
      "text/plain": [
       "count     5627.000000\n",
       "mean     12104.385108\n",
       "std       8085.732038\n",
       "min        900.000000\n",
       "25%       5600.000000\n",
       "50%      10000.000000\n",
       "75%      16500.000000\n",
       "max      35000.000000\n",
       "Name: loan_amnt, dtype: float64"
      ]
     },
     "execution_count": 49,
     "metadata": {},
     "output_type": "execute_result"
    }
   ],
   "source": [
    "LoanData_defaulters[\"loan_amnt\"].describe()"
   ]
  },
  {
   "cell_type": "code",
   "execution_count": 50,
   "id": "7b1a5781",
   "metadata": {},
   "outputs": [
    {
     "data": {
      "image/png": "[encoded data removed]",
      "text/plain": [
       "<Figure size 576x576 with 1 Axes>"
      ]
     },
     "metadata": {
      "needs_background": "light"
     },
     "output_type": "display_data"
    }
   ],
   "source": [
    "# Dviding Loan amount into bins and analyzing the Charged off loans\n",
    "out=pd.cut(LoanData_defaulters[\"loan_amnt\"],bins=np.arange(0,35000,2000),include_lowest=True)\n",
    "ax = out.value_counts(sort=False).plot.bar(rot=0, color=\"blue\", figsize=(8,8))\n",
    "plt.title(\"Count of Charged off loans based on Loan amount \\n\", fontdict={'fontsize':20, 'fontweight':5, 'color':'Green'})\n",
    "plt.xlabel(\"Loan Amount Bins\",fontdict={'fontsize':20, 'fontweight':5, 'color':'Green'})\n",
    "plt.ylabel(\"Loan Count\",fontdict={'fontsize':20, 'fontweight':5, 'color':'Green'})\n",
    "plt.xticks(rotation=90)\n",
    "plt.show()"
   ]
  },
  {
   "cell_type": "code",
   "execution_count": 51,
   "id": "f3cd724e",
   "metadata": {},
   "outputs": [
    {
     "data": {
      "image/png": "[encoded data removed]",
      "text/plain": [
       "<Figure size 432x288 with 1 Axes>"
      ]
     },
     "metadata": {},
     "output_type": "display_data"
    }
   ],
   "source": [
    "# Box plot of Loan amount vs Loan Status (Charged off and Fully Paid)\n",
    "plt.style.use(\"ggplot\")\n",
    "plt.boxplot([LoanData_defaulters[\"loan_amnt\"],LoanData_Fullpaid[\"loan_amnt\"]])\n",
    "plt.title(\"Box plot of Loan amount for Defaulters and Fully paid Loan accounts\\n\", fontdict={'fontsize':20, 'fontweight':5, 'color':'Green'})\n",
    "#plt.xlabel(\"Loan\",fontdict={'fontsize':20, 'fontweight':5, 'color':'Green'})\n",
    "plt.ylabel(\"Loan Amount\",fontdict={'fontsize':20, 'fontweight':5, 'color':'Green'})\n",
    "plt.xticks([1, 2], ['Charded Off', 'Fully Paid'], rotation=45)\n",
    "plt.violinplot([LoanData_defaulters[\"loan_amnt\"],LoanData_Fullpaid[\"loan_amnt\"]])\n",
    "plt.show()\n"
   ]
  },
  {
   "cell_type": "markdown",
   "id": "26a271ca",
   "metadata": {},
   "source": [
    "# Segmented Univariate analysis"
   ]
  },
  {
   "cell_type": "code",
   "execution_count": 53,
   "id": "7c3c3659",
   "metadata": {},
   "outputs": [
    {
     "data": {
      "text/plain": [
       "RENT        2839\n",
       "MORTGAGE    2327\n",
       "OWN          443\n",
       "OTHER         18\n",
       "Name: home_ownership, dtype: int64"
      ]
     },
     "execution_count": 53,
     "metadata": {},
     "output_type": "execute_result"
    }
   ],
   "source": [
    "#Based home Ownership \n",
    "LoanData_defaulters.home_ownership.value_counts()"
   ]
  },
  {
   "cell_type": "code",
   "execution_count": 54,
   "id": "dabf10cd",
   "metadata": {},
   "outputs": [
    {
     "data": {
      "text/plain": [
       "RENT        2839\n",
       "MORTGAGE    2327\n",
       "OWN          443\n",
       "Name: home_ownership, dtype: int64"
      ]
     },
     "execution_count": 54,
     "metadata": {},
     "output_type": "execute_result"
    }
   ],
   "source": [
    "# Home ownership with Other value is very minimal ,hence ignoring those records and performing an analysis\n",
    "LoanData_defaulters[LoanData_defaulters[\"home_ownership\"]!='OTHER'].home_ownership.value_counts()"
   ]
  },
  {
   "cell_type": "markdown",
   "id": "1fdf7f7a",
   "metadata": {},
   "source": [
    "#### Segmented  Analysis- Loan applications distribution over Home Ownership for Charged off loans"
   ]
  },
  {
   "cell_type": "code",
   "execution_count": 55,
   "id": "b55bcb5f",
   "metadata": {},
   "outputs": [
    {
     "data": {
      "image/png": "[encoded data removed]",
      "text/plain": [
       "<Figure size 432x288 with 1 Axes>"
      ]
     },
     "metadata": {},
     "output_type": "display_data"
    }
   ],
   "source": [
    "plt.title(\"Comparing the Charged off loans based on Home Ownership \\n\", fontdict={'fontsize':20, 'fontweight':5, 'color':'Green'})\n",
    "sns.countplot(data=LoanData, x='home_ownership', order=LoanData_defaulters[LoanData_defaulters[\"home_ownership\"]!='OTHER'].home_ownership.value_counts().index)\n",
    "plt.xlabel(\"Home Ownership\",fontdict={'fontsize':20, 'fontweight':5, 'color':'Green'})\n",
    "plt.ylabel(\"Loan Count\",fontdict={'fontsize':20, 'fontweight':5, 'color':'Green'})\n",
    "plt.show()"
   ]
  },
  {
   "cell_type": "markdown",
   "id": "b6fdd668",
   "metadata": {},
   "source": [
    "#### Segmented  Analysis- Loan applications distribution over loan status on grade"
   ]
  },
  {
   "cell_type": "code",
   "execution_count": 57,
   "id": "a228df31",
   "metadata": {},
   "outputs": [
    {
     "data": {
      "image/png": "[encoded data removed]",
      "text/plain": [
       "<Figure size 432x288 with 1 Axes>"
      ]
     },
     "metadata": {},
     "output_type": "display_data"
    }
   ],
   "source": [
    "# Bar chart of Charged off loans based on grade\n",
    "Loandata_grades=LoanData.groupby(['loan_status','grade']).agg(count_total=(\"loan_status\",'count'))\n",
    "Loandata_grades.reset_index(inplace=True)\n",
    "sns.barplot(data=Loandata_grades, x= \"loan_status\", y= \"count_total\",hue=\"grade\")\n",
    "plt.title(\"Bar Chart of Charged off loans as well as Fully paid loans\\n\", fontdict={'fontsize':20, 'fontweight':5, 'color':'Green'})\n",
    "plt.xlabel(\"Loan Status\",fontdict={'fontsize':20, 'fontweight':5, 'color':'Green'})\n",
    "plt.ylabel(\"Loan Count\",fontdict={'fontsize':20, 'fontweight':5, 'color':'Green'})\n",
    "plt.show()"
   ]
  },
  {
   "cell_type": "markdown",
   "id": "c3fa4067",
   "metadata": {},
   "source": [
    "#### Segmented  Analysis- Loan applications distribution over loan status on state"
   ]
  },
  {
   "cell_type": "code",
   "execution_count": 96,
   "id": "1e81ac03",
   "metadata": {},
   "outputs": [
    {
     "data": {
      "image/png": "[encoded data removed]",
      "text/plain": [
       "<Figure size 432x288 with 1 Axes>"
      ]
     },
     "metadata": {},
     "output_type": "display_data"
    }
   ],
   "source": [
    "# Bar chart of Charged off loans based on state\n",
    "Loandata_grades=LoanData.groupby(['loan_status','addr_state']).agg(count_total=(\"loan_status\",'count'))\n",
    "Loandata_grades.reset_index(inplace=True)\n",
    "sns.barplot(data=Loandata_grades, x= \"loan_status\", y= \"count_total\",hue=\"addr_state\")\n",
    "plt.title(\"Bar Chart of Charged off loans as well as Fully paid loans\\n\", fontdict={'fontsize':20, 'fontweight':5, 'color':'Green'})\n",
    "plt.xlabel(\"Loan Status\",fontdict={'fontsize':20, 'fontweight':5, 'color':'Green'})\n",
    "plt.ylabel(\"Loan Count\",fontdict={'fontsize':20, 'fontweight':5, 'color':'Green'})\n",
    "plt.legend(bbox_to_anchor=(1.02, 1), loc='upper left', borderaxespad=0)\n",
    "plt.show()"
   ]
  },
  {
   "cell_type": "code",
   "execution_count": 60,
   "id": "669eec75",
   "metadata": {},
   "outputs": [
    {
     "data": {
      "text/plain": [
       "36    29096\n",
       "60     9481\n",
       "Name: term_months, dtype: int64"
      ]
     },
     "execution_count": 60,
     "metadata": {},
     "output_type": "execute_result"
    }
   ],
   "source": [
    "LoanData.term_months.value_counts()"
   ]
  },
  {
   "cell_type": "markdown",
   "id": "7ac3e954",
   "metadata": {},
   "source": [
    "#### Bar Chart of Loan applications versus Loan term"
   ]
  },
  {
   "cell_type": "code",
   "execution_count": 98,
   "id": "1ecaa752",
   "metadata": {},
   "outputs": [
    {
     "data": {
      "image/png": "[encoded data removed]",
      "text/plain": [
       "<Figure size 432x288 with 1 Axes>"
      ]
     },
     "metadata": {},
     "output_type": "display_data"
    }
   ],
   "source": [
    "# Bar chart of loans based on loan term\n",
    "Loandata_term=LoanData.groupby(['loan_status','term_months']).agg(count_total=(\"loan_status\",'count'))\n",
    "Loandata_term.reset_index(inplace=True)\n",
    "sns.barplot(data=Loandata_term, x= \"loan_status\", y= \"count_total\",hue=\"term_months\")\n",
    "plt.title(\"Bar Chart of Loans based on loan term \\n\", fontdict={'fontsize':20, 'fontweight':5, 'color':'Green'})\n",
    "plt.xlabel(\"Loan Status\",fontdict={'fontsize':20, 'fontweight':5, 'color':'Green'})\n",
    "plt.ylabel(\"Loan Count\",fontdict={'fontsize':20, 'fontweight':5, 'color':'Green'})\n",
    "plt.show()"
   ]
  },
  {
   "cell_type": "markdown",
   "id": "3115ad7c",
   "metadata": {},
   "source": [
    "#### Based on above bar chart, we have lot of applications with 36 month term loan, hence increasing the interest percent on short term loans would be profitable. \n"
   ]
  },
  {
   "cell_type": "code",
   "execution_count": null,
   "id": "43240607",
   "metadata": {},
   "outputs": [],
   "source": []
  },
  {
   "cell_type": "markdown",
   "id": "cbcfcae7",
   "metadata": {},
   "source": [
    "#### Bar chart of Charged off loans vs dti( dti bins)\n",
    "###### A ratio calculated using the borrower’s total monthly debt payments on the total debt obligations, excluding mortgage and the requested LC loan, divided by the borrower’s self-reported monthly income."
   ]
  },
  {
   "cell_type": "code",
   "execution_count": 104,
   "id": "2566566a",
   "metadata": {},
   "outputs": [
    {
     "data": {
      "text/plain": [
       "count    5627.000000\n",
       "mean       14.000624\n",
       "std         6.585577\n",
       "min         0.000000\n",
       "25%         9.050000\n",
       "50%        14.290000\n",
       "75%        19.290000\n",
       "max        29.850000\n",
       "Name: dti, dtype: float64"
      ]
     },
     "execution_count": 104,
     "metadata": {},
     "output_type": "execute_result"
    }
   ],
   "source": [
    "# dti ordered segemtned analysis \n",
    "LoanData_defaulters[\"dti\"].describe()"
   ]
  },
  {
   "cell_type": "code",
   "execution_count": 106,
   "id": "2d00ba9e",
   "metadata": {},
   "outputs": [
    {
     "data": {
      "image/png": "[encoded data removed]",
      "text/plain": [
       "<Figure size 576x576 with 1 Axes>"
      ]
     },
     "metadata": {},
     "output_type": "display_data"
    }
   ],
   "source": [
    "out=pd.cut(LoanData_defaulters[\"dti\"],bins=np.arange(0,35,5),include_lowest=True)\n",
    "ax = out.value_counts(sort=False).plot.bar(rot=0, color=\"blue\", figsize=(8,8))\n",
    "plt.title(\"Count of Charged off loans based on dti \\n\", fontdict={'fontsize':20, 'fontweight':5, 'color':'Green'})\n",
    "plt.xlabel(\"dti Bins\",fontdict={'fontsize':20, 'fontweight':5, 'color':'Green'})\n",
    "plt.ylabel(\"Loan Count\",fontdict={'fontsize':20, 'fontweight':5, 'color':'Green'})\n",
    "plt.xticks(rotation=90)\n",
    "plt.show()"
   ]
  },
  {
   "cell_type": "markdown",
   "id": "976611f5",
   "metadata": {},
   "source": [
    "# Bivariate analysis"
   ]
  },
  {
   "cell_type": "code",
   "execution_count": 64,
   "id": "8402798b",
   "metadata": {},
   "outputs": [
    {
     "data": {
      "text/html": [
       "<div>\n",
       "<style scoped>\n",
       "    .dataframe tbody tr th:only-of-type {\n",
       "        vertical-align: middle;\n",
       "    }\n",
       "\n",
       "    .dataframe tbody tr th {\n",
       "        vertical-align: top;\n",
       "    }\n",
       "\n",
       "    .dataframe thead th {\n",
       "        text-align: right;\n",
       "    }\n",
       "</style>\n",
       "<table border=\"1\" class=\"dataframe\">\n",
       "  <thead>\n",
       "    <tr style=\"text-align: right;\">\n",
       "      <th></th>\n",
       "      <th>loan_amnt</th>\n",
       "      <th>term_months</th>\n",
       "      <th>int_rate_percent</th>\n",
       "      <th>annual_inc</th>\n",
       "      <th>dti</th>\n",
       "    </tr>\n",
       "  </thead>\n",
       "  <tbody>\n",
       "    <tr>\n",
       "      <th>loan_amnt</th>\n",
       "      <td>1.000000</td>\n",
       "      <td>0.346650</td>\n",
       "      <td>0.301265</td>\n",
       "      <td>0.268999</td>\n",
       "      <td>0.062436</td>\n",
       "    </tr>\n",
       "    <tr>\n",
       "      <th>term_months</th>\n",
       "      <td>0.346650</td>\n",
       "      <td>1.000000</td>\n",
       "      <td>0.440206</td>\n",
       "      <td>0.043866</td>\n",
       "      <td>0.076182</td>\n",
       "    </tr>\n",
       "    <tr>\n",
       "      <th>int_rate_percent</th>\n",
       "      <td>0.301265</td>\n",
       "      <td>0.440206</td>\n",
       "      <td>1.000000</td>\n",
       "      <td>0.048899</td>\n",
       "      <td>0.110913</td>\n",
       "    </tr>\n",
       "    <tr>\n",
       "      <th>annual_inc</th>\n",
       "      <td>0.268999</td>\n",
       "      <td>0.043866</td>\n",
       "      <td>0.048899</td>\n",
       "      <td>1.000000</td>\n",
       "      <td>-0.121530</td>\n",
       "    </tr>\n",
       "    <tr>\n",
       "      <th>dti</th>\n",
       "      <td>0.062436</td>\n",
       "      <td>0.076182</td>\n",
       "      <td>0.110913</td>\n",
       "      <td>-0.121530</td>\n",
       "      <td>1.000000</td>\n",
       "    </tr>\n",
       "  </tbody>\n",
       "</table>\n",
       "</div>"
      ],
      "text/plain": [
       "                  loan_amnt  term_months  int_rate_percent  annual_inc  \\\n",
       "loan_amnt          1.000000     0.346650          0.301265    0.268999   \n",
       "term_months        0.346650     1.000000          0.440206    0.043866   \n",
       "int_rate_percent   0.301265     0.440206          1.000000    0.048899   \n",
       "annual_inc         0.268999     0.043866          0.048899    1.000000   \n",
       "dti                0.062436     0.076182          0.110913   -0.121530   \n",
       "\n",
       "                       dti  \n",
       "loan_amnt         0.062436  \n",
       "term_months       0.076182  \n",
       "int_rate_percent  0.110913  \n",
       "annual_inc       -0.121530  \n",
       "dti               1.000000  "
      ]
     },
     "execution_count": 64,
     "metadata": {},
     "output_type": "execute_result"
    }
   ],
   "source": [
    "# Correlation box for all the loan data \n",
    "Loan_corr=LoanData[[\"loan_amnt\",\"term_months\",\"int_rate_percent\",\"annual_inc\",\"dti\"]].corr()\n",
    "Loan_corr"
   ]
  },
  {
   "cell_type": "code",
   "execution_count": 91,
   "id": "a6f00ee7",
   "metadata": {},
   "outputs": [
    {
     "data": {
      "text/html": [
       "<div>\n",
       "<style scoped>\n",
       "    .dataframe tbody tr th:only-of-type {\n",
       "        vertical-align: middle;\n",
       "    }\n",
       "\n",
       "    .dataframe tbody tr th {\n",
       "        vertical-align: top;\n",
       "    }\n",
       "\n",
       "    .dataframe thead th {\n",
       "        text-align: right;\n",
       "    }\n",
       "</style>\n",
       "<table border=\"1\" class=\"dataframe\">\n",
       "  <thead>\n",
       "    <tr style=\"text-align: right;\">\n",
       "      <th></th>\n",
       "      <th>loan_amnt</th>\n",
       "      <th>term_months</th>\n",
       "      <th>int_rate_percent</th>\n",
       "      <th>annual_inc</th>\n",
       "      <th>dti</th>\n",
       "    </tr>\n",
       "  </thead>\n",
       "  <tbody>\n",
       "    <tr>\n",
       "      <th>loan_amnt</th>\n",
       "      <td>1.000000</td>\n",
       "      <td>0.389484</td>\n",
       "      <td>0.351216</td>\n",
       "      <td>0.352359</td>\n",
       "      <td>0.063872</td>\n",
       "    </tr>\n",
       "    <tr>\n",
       "      <th>term_months</th>\n",
       "      <td>0.389484</td>\n",
       "      <td>1.000000</td>\n",
       "      <td>0.455916</td>\n",
       "      <td>0.079099</td>\n",
       "      <td>0.063872</td>\n",
       "    </tr>\n",
       "    <tr>\n",
       "      <th>int_rate_percent</th>\n",
       "      <td>0.351216</td>\n",
       "      <td>0.455916</td>\n",
       "      <td>1.000000</td>\n",
       "      <td>0.132252</td>\n",
       "      <td>0.040607</td>\n",
       "    </tr>\n",
       "    <tr>\n",
       "      <th>annual_inc</th>\n",
       "      <td>0.352359</td>\n",
       "      <td>0.079099</td>\n",
       "      <td>0.132252</td>\n",
       "      <td>1.000000</td>\n",
       "      <td>-0.089725</td>\n",
       "    </tr>\n",
       "    <tr>\n",
       "      <th>dti</th>\n",
       "      <td>0.063872</td>\n",
       "      <td>0.063872</td>\n",
       "      <td>0.040607</td>\n",
       "      <td>-0.089725</td>\n",
       "      <td>1.000000</td>\n",
       "    </tr>\n",
       "  </tbody>\n",
       "</table>\n",
       "</div>"
      ],
      "text/plain": [
       "                  loan_amnt  term_months  int_rate_percent  annual_inc  \\\n",
       "loan_amnt          1.000000     0.389484          0.351216    0.352359   \n",
       "term_months        0.389484     1.000000          0.455916    0.079099   \n",
       "int_rate_percent   0.351216     0.455916          1.000000    0.132252   \n",
       "annual_inc         0.352359     0.079099          0.132252    1.000000   \n",
       "dti                0.063872     0.063872          0.040607   -0.089725   \n",
       "\n",
       "                       dti  \n",
       "loan_amnt         0.063872  \n",
       "term_months       0.063872  \n",
       "int_rate_percent  0.040607  \n",
       "annual_inc       -0.089725  \n",
       "dti               1.000000  "
      ]
     },
     "execution_count": 91,
     "metadata": {},
     "output_type": "execute_result"
    }
   ],
   "source": [
    "# Correlation box for the charged off loans\n",
    "Loan_corr_chargedoff=LoanData_defaulters[[\"loan_amnt\",\"term_months\",\"int_rate_percent\",\"annual_inc\",\"dti\"]].corr()\n",
    "Loan_corr_chargedoff"
   ]
  },
  {
   "cell_type": "code",
   "execution_count": 92,
   "id": "cda491ba",
   "metadata": {},
   "outputs": [
    {
     "data": {
      "image/png": "[encoded data removed]",
      "text/plain": [
       "<Figure size 432x288 with 2 Axes>"
      ]
     },
     "metadata": {},
     "output_type": "display_data"
    }
   ],
   "source": [
    "colormap = sns.color_palette(\"Greens\")\n",
    "sns.heatmap(Loan_corr_chargedoff,cmap=colormap);"
   ]
  },
  {
   "cell_type": "code",
   "execution_count": 66,
   "id": "24b93cce",
   "metadata": {},
   "outputs": [
    {
     "data": {
      "text/html": [
       "<div>\n",
       "<style scoped>\n",
       "    .dataframe tbody tr th:only-of-type {\n",
       "        vertical-align: middle;\n",
       "    }\n",
       "\n",
       "    .dataframe tbody tr th {\n",
       "        vertical-align: top;\n",
       "    }\n",
       "\n",
       "    .dataframe thead th {\n",
       "        text-align: right;\n",
       "    }\n",
       "</style>\n",
       "<table border=\"1\" class=\"dataframe\">\n",
       "  <thead>\n",
       "    <tr style=\"text-align: right;\">\n",
       "      <th></th>\n",
       "      <th>loan_amnt</th>\n",
       "      <th>term_months</th>\n",
       "      <th>int_rate_percent</th>\n",
       "      <th>annual_inc</th>\n",
       "      <th>dti</th>\n",
       "    </tr>\n",
       "  </thead>\n",
       "  <tbody>\n",
       "    <tr>\n",
       "      <th>loan_amnt</th>\n",
       "      <td>1.000000</td>\n",
       "      <td>0.331336</td>\n",
       "      <td>0.285371</td>\n",
       "      <td>0.264433</td>\n",
       "      <td>0.059256</td>\n",
       "    </tr>\n",
       "    <tr>\n",
       "      <th>term_months</th>\n",
       "      <td>0.331336</td>\n",
       "      <td>1.000000</td>\n",
       "      <td>0.412617</td>\n",
       "      <td>0.048657</td>\n",
       "      <td>0.070857</td>\n",
       "    </tr>\n",
       "    <tr>\n",
       "      <th>int_rate_percent</th>\n",
       "      <td>0.285371</td>\n",
       "      <td>0.412617</td>\n",
       "      <td>1.000000</td>\n",
       "      <td>0.050188</td>\n",
       "      <td>0.114644</td>\n",
       "    </tr>\n",
       "    <tr>\n",
       "      <th>annual_inc</th>\n",
       "      <td>0.264433</td>\n",
       "      <td>0.048657</td>\n",
       "      <td>0.050188</td>\n",
       "      <td>1.000000</td>\n",
       "      <td>-0.124211</td>\n",
       "    </tr>\n",
       "    <tr>\n",
       "      <th>dti</th>\n",
       "      <td>0.059256</td>\n",
       "      <td>0.070857</td>\n",
       "      <td>0.114644</td>\n",
       "      <td>-0.124211</td>\n",
       "      <td>1.000000</td>\n",
       "    </tr>\n",
       "  </tbody>\n",
       "</table>\n",
       "</div>"
      ],
      "text/plain": [
       "                  loan_amnt  term_months  int_rate_percent  annual_inc  \\\n",
       "loan_amnt          1.000000     0.331336          0.285371    0.264433   \n",
       "term_months        0.331336     1.000000          0.412617    0.048657   \n",
       "int_rate_percent   0.285371     0.412617          1.000000    0.050188   \n",
       "annual_inc         0.264433     0.048657          0.050188    1.000000   \n",
       "dti                0.059256     0.070857          0.114644   -0.124211   \n",
       "\n",
       "                       dti  \n",
       "loan_amnt         0.059256  \n",
       "term_months       0.070857  \n",
       "int_rate_percent  0.114644  \n",
       "annual_inc       -0.124211  \n",
       "dti               1.000000  "
      ]
     },
     "execution_count": 66,
     "metadata": {},
     "output_type": "execute_result"
    }
   ],
   "source": [
    "# Correlation box for few of the columns for the fully paid loans\n",
    "LoanData_Fullpaid[[\"loan_amnt\",\"term_months\",\"int_rate_percent\",\"annual_inc\",\"dti\"]].corr()"
   ]
  },
  {
   "cell_type": "code",
   "execution_count": 67,
   "id": "25ff74a0",
   "metadata": {},
   "outputs": [
    {
     "data": {
      "text/html": [
       "<div>\n",
       "<style scoped>\n",
       "    .dataframe tbody tr th:only-of-type {\n",
       "        vertical-align: middle;\n",
       "    }\n",
       "\n",
       "    .dataframe tbody tr th {\n",
       "        vertical-align: top;\n",
       "    }\n",
       "\n",
       "    .dataframe thead th {\n",
       "        text-align: right;\n",
       "    }\n",
       "</style>\n",
       "<table border=\"1\" class=\"dataframe\">\n",
       "  <thead>\n",
       "    <tr style=\"text-align: right;\">\n",
       "      <th></th>\n",
       "      <th>loan_amnt</th>\n",
       "      <th>term_months</th>\n",
       "      <th>int_rate_percent</th>\n",
       "      <th>annual_inc</th>\n",
       "      <th>dti</th>\n",
       "    </tr>\n",
       "  </thead>\n",
       "  <tbody>\n",
       "    <tr>\n",
       "      <th>loan_amnt</th>\n",
       "      <td>1.000000</td>\n",
       "      <td>0.389484</td>\n",
       "      <td>0.351216</td>\n",
       "      <td>0.352359</td>\n",
       "      <td>0.063872</td>\n",
       "    </tr>\n",
       "    <tr>\n",
       "      <th>term_months</th>\n",
       "      <td>0.389484</td>\n",
       "      <td>1.000000</td>\n",
       "      <td>0.455916</td>\n",
       "      <td>0.079099</td>\n",
       "      <td>0.063872</td>\n",
       "    </tr>\n",
       "    <tr>\n",
       "      <th>int_rate_percent</th>\n",
       "      <td>0.351216</td>\n",
       "      <td>0.455916</td>\n",
       "      <td>1.000000</td>\n",
       "      <td>0.132252</td>\n",
       "      <td>0.040607</td>\n",
       "    </tr>\n",
       "    <tr>\n",
       "      <th>annual_inc</th>\n",
       "      <td>0.352359</td>\n",
       "      <td>0.079099</td>\n",
       "      <td>0.132252</td>\n",
       "      <td>1.000000</td>\n",
       "      <td>-0.089725</td>\n",
       "    </tr>\n",
       "    <tr>\n",
       "      <th>dti</th>\n",
       "      <td>0.063872</td>\n",
       "      <td>0.063872</td>\n",
       "      <td>0.040607</td>\n",
       "      <td>-0.089725</td>\n",
       "      <td>1.000000</td>\n",
       "    </tr>\n",
       "  </tbody>\n",
       "</table>\n",
       "</div>"
      ],
      "text/plain": [
       "                  loan_amnt  term_months  int_rate_percent  annual_inc  \\\n",
       "loan_amnt          1.000000     0.389484          0.351216    0.352359   \n",
       "term_months        0.389484     1.000000          0.455916    0.079099   \n",
       "int_rate_percent   0.351216     0.455916          1.000000    0.132252   \n",
       "annual_inc         0.352359     0.079099          0.132252    1.000000   \n",
       "dti                0.063872     0.063872          0.040607   -0.089725   \n",
       "\n",
       "                       dti  \n",
       "loan_amnt         0.063872  \n",
       "term_months       0.063872  \n",
       "int_rate_percent  0.040607  \n",
       "annual_inc       -0.089725  \n",
       "dti               1.000000  "
      ]
     },
     "execution_count": 67,
     "metadata": {},
     "output_type": "execute_result"
    }
   ],
   "source": [
    "# Correlation box for few of the columns for the charged off loans\n",
    "LoanData_defaulters[[\"loan_amnt\",\"term_months\",\"int_rate_percent\",\"annual_inc\",\"dti\"]].corr()"
   ]
  },
  {
   "cell_type": "code",
   "execution_count": 68,
   "id": "429b10b7",
   "metadata": {},
   "outputs": [
    {
     "data": {
      "image/png": "[encoded data removed]",
      "text/plain": [
       "<Figure size 432x288 with 1 Axes>"
      ]
     },
     "metadata": {},
     "output_type": "display_data"
    }
   ],
   "source": [
    "# loan_status vs ( loan amount and interest ) continuous\n",
    "\n",
    "#plt.scatter(x,y, alpha=0.7, s=n)\n",
    "LoanData_defaulters.plot.scatter(x = 'loan_amnt', y = 'int_rate_percent',alpha=0.7, s = 5);\n"
   ]
  },
  {
   "cell_type": "code",
   "execution_count": 69,
   "id": "71662c76",
   "metadata": {},
   "outputs": [
    {
     "data": {
      "image/png": "[encoded data removed]",
      "text/plain": [
       "<Figure size 360x360 with 1 Axes>"
      ]
     },
     "metadata": {},
     "output_type": "display_data"
    }
   ],
   "source": [
    "sns.lmplot(x=\"loan_amnt\", y=\"int_rate_percent\" , data=LoanData_defaulters);"
   ]
  },
  {
   "cell_type": "code",
   "execution_count": 70,
   "id": "f7128555",
   "metadata": {},
   "outputs": [
    {
     "data": {
      "text/plain": [
       "1         30000.0\n",
       "8         40000.0\n",
       "9         15000.0\n",
       "12        30000.0\n",
       "14       100000.0\n",
       "           ...   \n",
       "39667     32000.0\n",
       "39668     75000.0\n",
       "39669    213000.0\n",
       "39678     33990.0\n",
       "39688    145000.0\n",
       "Name: annual_inc, Length: 5627, dtype: float64"
      ]
     },
     "execution_count": 70,
     "metadata": {},
     "output_type": "execute_result"
    }
   ],
   "source": [
    "LoanData_defaulters[\"annual_inc\"]"
   ]
  },
  {
   "cell_type": "code",
   "execution_count": 71,
   "id": "edf8ab3b",
   "metadata": {},
   "outputs": [
    {
     "data": {
      "text/html": [
       "<div>\n",
       "<style scoped>\n",
       "    .dataframe tbody tr th:only-of-type {\n",
       "        vertical-align: middle;\n",
       "    }\n",
       "\n",
       "    .dataframe tbody tr th {\n",
       "        vertical-align: top;\n",
       "    }\n",
       "\n",
       "    .dataframe thead th {\n",
       "        text-align: right;\n",
       "    }\n",
       "</style>\n",
       "<table border=\"1\" class=\"dataframe\">\n",
       "  <thead>\n",
       "    <tr style=\"text-align: right;\">\n",
       "      <th></th>\n",
       "      <th>id</th>\n",
       "      <th>member_id</th>\n",
       "      <th>loan_amnt</th>\n",
       "      <th>funded_amnt</th>\n",
       "      <th>funded_amnt_inv</th>\n",
       "      <th>term_months</th>\n",
       "      <th>int_rate_percent</th>\n",
       "      <th>installment</th>\n",
       "      <th>grade</th>\n",
       "      <th>sub_grade</th>\n",
       "      <th>...</th>\n",
       "      <th>last_pymnt_amnt</th>\n",
       "      <th>last_credit_pull_d</th>\n",
       "      <th>collections_12_mths_ex_med</th>\n",
       "      <th>policy_code</th>\n",
       "      <th>application_type</th>\n",
       "      <th>acc_now_delinq</th>\n",
       "      <th>chargeoff_within_12_mths</th>\n",
       "      <th>delinq_amnt</th>\n",
       "      <th>pub_rec_bankruptcies</th>\n",
       "      <th>tax_liens</th>\n",
       "    </tr>\n",
       "  </thead>\n",
       "  <tbody>\n",
       "    <tr>\n",
       "      <th>1</th>\n",
       "      <td>1077430</td>\n",
       "      <td>1314167</td>\n",
       "      <td>2500</td>\n",
       "      <td>2500</td>\n",
       "      <td>2500.0</td>\n",
       "      <td>60</td>\n",
       "      <td>15.27</td>\n",
       "      <td>59.83</td>\n",
       "      <td>C</td>\n",
       "      <td>C4</td>\n",
       "      <td>...</td>\n",
       "      <td>119.66</td>\n",
       "      <td>2013-09-01</td>\n",
       "      <td>0.0</td>\n",
       "      <td>1</td>\n",
       "      <td>INDIVIDUAL</td>\n",
       "      <td>0</td>\n",
       "      <td>0.0</td>\n",
       "      <td>0</td>\n",
       "      <td>0.0</td>\n",
       "      <td>0.0</td>\n",
       "    </tr>\n",
       "    <tr>\n",
       "      <th>8</th>\n",
       "      <td>1071795</td>\n",
       "      <td>1306957</td>\n",
       "      <td>5600</td>\n",
       "      <td>5600</td>\n",
       "      <td>5600.0</td>\n",
       "      <td>60</td>\n",
       "      <td>21.28</td>\n",
       "      <td>152.39</td>\n",
       "      <td>F</td>\n",
       "      <td>F2</td>\n",
       "      <td>...</td>\n",
       "      <td>152.39</td>\n",
       "      <td>2012-08-01</td>\n",
       "      <td>0.0</td>\n",
       "      <td>1</td>\n",
       "      <td>INDIVIDUAL</td>\n",
       "      <td>0</td>\n",
       "      <td>0.0</td>\n",
       "      <td>0</td>\n",
       "      <td>0.0</td>\n",
       "      <td>0.0</td>\n",
       "    </tr>\n",
       "    <tr>\n",
       "      <th>9</th>\n",
       "      <td>1071570</td>\n",
       "      <td>1306721</td>\n",
       "      <td>5375</td>\n",
       "      <td>5375</td>\n",
       "      <td>5350.0</td>\n",
       "      <td>60</td>\n",
       "      <td>12.69</td>\n",
       "      <td>121.45</td>\n",
       "      <td>B</td>\n",
       "      <td>B5</td>\n",
       "      <td>...</td>\n",
       "      <td>121.45</td>\n",
       "      <td>2013-03-01</td>\n",
       "      <td>0.0</td>\n",
       "      <td>1</td>\n",
       "      <td>INDIVIDUAL</td>\n",
       "      <td>0</td>\n",
       "      <td>0.0</td>\n",
       "      <td>0</td>\n",
       "      <td>0.0</td>\n",
       "      <td>0.0</td>\n",
       "    </tr>\n",
       "    <tr>\n",
       "      <th>12</th>\n",
       "      <td>1064687</td>\n",
       "      <td>1298717</td>\n",
       "      <td>9000</td>\n",
       "      <td>9000</td>\n",
       "      <td>9000.0</td>\n",
       "      <td>36</td>\n",
       "      <td>13.49</td>\n",
       "      <td>305.38</td>\n",
       "      <td>C</td>\n",
       "      <td>C1</td>\n",
       "      <td>...</td>\n",
       "      <td>305.38</td>\n",
       "      <td>2012-11-01</td>\n",
       "      <td>0.0</td>\n",
       "      <td>1</td>\n",
       "      <td>INDIVIDUAL</td>\n",
       "      <td>0</td>\n",
       "      <td>0.0</td>\n",
       "      <td>0</td>\n",
       "      <td>0.0</td>\n",
       "      <td>0.0</td>\n",
       "    </tr>\n",
       "    <tr>\n",
       "      <th>26</th>\n",
       "      <td>1069800</td>\n",
       "      <td>1304679</td>\n",
       "      <td>15000</td>\n",
       "      <td>15000</td>\n",
       "      <td>8725.0</td>\n",
       "      <td>36</td>\n",
       "      <td>14.27</td>\n",
       "      <td>514.64</td>\n",
       "      <td>C</td>\n",
       "      <td>C2</td>\n",
       "      <td>...</td>\n",
       "      <td>0.00</td>\n",
       "      <td>2016-05-01</td>\n",
       "      <td>0.0</td>\n",
       "      <td>1</td>\n",
       "      <td>INDIVIDUAL</td>\n",
       "      <td>0</td>\n",
       "      <td>0.0</td>\n",
       "      <td>0</td>\n",
       "      <td>0.0</td>\n",
       "      <td>0.0</td>\n",
       "    </tr>\n",
       "    <tr>\n",
       "      <th>...</th>\n",
       "      <td>...</td>\n",
       "      <td>...</td>\n",
       "      <td>...</td>\n",
       "      <td>...</td>\n",
       "      <td>...</td>\n",
       "      <td>...</td>\n",
       "      <td>...</td>\n",
       "      <td>...</td>\n",
       "      <td>...</td>\n",
       "      <td>...</td>\n",
       "      <td>...</td>\n",
       "      <td>...</td>\n",
       "      <td>...</td>\n",
       "      <td>...</td>\n",
       "      <td>...</td>\n",
       "      <td>...</td>\n",
       "      <td>...</td>\n",
       "      <td>...</td>\n",
       "      <td>...</td>\n",
       "      <td>...</td>\n",
       "      <td>...</td>\n",
       "    </tr>\n",
       "    <tr>\n",
       "      <th>39638</th>\n",
       "      <td>127830</td>\n",
       "      <td>127824</td>\n",
       "      <td>8000</td>\n",
       "      <td>8000</td>\n",
       "      <td>150.0</td>\n",
       "      <td>36</td>\n",
       "      <td>12.17</td>\n",
       "      <td>266.37</td>\n",
       "      <td>D</td>\n",
       "      <td>D2</td>\n",
       "      <td>...</td>\n",
       "      <td>266.37</td>\n",
       "      <td>2010-05-01</td>\n",
       "      <td>0.0</td>\n",
       "      <td>1</td>\n",
       "      <td>INDIVIDUAL</td>\n",
       "      <td>0</td>\n",
       "      <td>0.0</td>\n",
       "      <td>0</td>\n",
       "      <td>NaN</td>\n",
       "      <td>0.0</td>\n",
       "    </tr>\n",
       "    <tr>\n",
       "      <th>39652</th>\n",
       "      <td>123230</td>\n",
       "      <td>80353</td>\n",
       "      <td>3175</td>\n",
       "      <td>3175</td>\n",
       "      <td>1425.0</td>\n",
       "      <td>36</td>\n",
       "      <td>11.54</td>\n",
       "      <td>104.76</td>\n",
       "      <td>C</td>\n",
       "      <td>C5</td>\n",
       "      <td>...</td>\n",
       "      <td>104.76</td>\n",
       "      <td>2016-04-01</td>\n",
       "      <td>0.0</td>\n",
       "      <td>1</td>\n",
       "      <td>INDIVIDUAL</td>\n",
       "      <td>0</td>\n",
       "      <td>0.0</td>\n",
       "      <td>0</td>\n",
       "      <td>NaN</td>\n",
       "      <td>0.0</td>\n",
       "    </tr>\n",
       "    <tr>\n",
       "      <th>39666</th>\n",
       "      <td>119043</td>\n",
       "      <td>119040</td>\n",
       "      <td>15450</td>\n",
       "      <td>15450</td>\n",
       "      <td>600.0</td>\n",
       "      <td>36</td>\n",
       "      <td>11.22</td>\n",
       "      <td>507.46</td>\n",
       "      <td>C</td>\n",
       "      <td>C4</td>\n",
       "      <td>...</td>\n",
       "      <td>1016.15</td>\n",
       "      <td>2010-03-01</td>\n",
       "      <td>NaN</td>\n",
       "      <td>1</td>\n",
       "      <td>INDIVIDUAL</td>\n",
       "      <td>0</td>\n",
       "      <td>NaN</td>\n",
       "      <td>0</td>\n",
       "      <td>1.0</td>\n",
       "      <td>0.0</td>\n",
       "    </tr>\n",
       "    <tr>\n",
       "      <th>39667</th>\n",
       "      <td>118823</td>\n",
       "      <td>118026</td>\n",
       "      <td>2500</td>\n",
       "      <td>2500</td>\n",
       "      <td>675.0</td>\n",
       "      <td>36</td>\n",
       "      <td>12.80</td>\n",
       "      <td>84.00</td>\n",
       "      <td>D</td>\n",
       "      <td>D4</td>\n",
       "      <td>...</td>\n",
       "      <td>1.76</td>\n",
       "      <td>2016-05-01</td>\n",
       "      <td>NaN</td>\n",
       "      <td>1</td>\n",
       "      <td>INDIVIDUAL</td>\n",
       "      <td>0</td>\n",
       "      <td>NaN</td>\n",
       "      <td>0</td>\n",
       "      <td>NaN</td>\n",
       "      <td>0.0</td>\n",
       "    </tr>\n",
       "    <tr>\n",
       "      <th>39678</th>\n",
       "      <td>113179</td>\n",
       "      <td>113093</td>\n",
       "      <td>1000</td>\n",
       "      <td>1000</td>\n",
       "      <td>950.0</td>\n",
       "      <td>36</td>\n",
       "      <td>10.59</td>\n",
       "      <td>32.55</td>\n",
       "      <td>C</td>\n",
       "      <td>C2</td>\n",
       "      <td>...</td>\n",
       "      <td>32.55</td>\n",
       "      <td>2009-10-01</td>\n",
       "      <td>NaN</td>\n",
       "      <td>1</td>\n",
       "      <td>INDIVIDUAL</td>\n",
       "      <td>0</td>\n",
       "      <td>NaN</td>\n",
       "      <td>0</td>\n",
       "      <td>NaN</td>\n",
       "      <td>0.0</td>\n",
       "    </tr>\n",
       "  </tbody>\n",
       "</table>\n",
       "<p>4190 rows × 53 columns</p>\n",
       "</div>"
      ],
      "text/plain": [
       "            id  member_id  loan_amnt  funded_amnt  funded_amnt_inv  \\\n",
       "1      1077430    1314167       2500         2500           2500.0   \n",
       "8      1071795    1306957       5600         5600           5600.0   \n",
       "9      1071570    1306721       5375         5375           5350.0   \n",
       "12     1064687    1298717       9000         9000           9000.0   \n",
       "26     1069800    1304679      15000        15000           8725.0   \n",
       "...        ...        ...        ...          ...              ...   \n",
       "39638   127830     127824       8000         8000            150.0   \n",
       "39652   123230      80353       3175         3175           1425.0   \n",
       "39666   119043     119040      15450        15450            600.0   \n",
       "39667   118823     118026       2500         2500            675.0   \n",
       "39678   113179     113093       1000         1000            950.0   \n",
       "\n",
       "       term_months  int_rate_percent  installment grade sub_grade  ...  \\\n",
       "1               60             15.27        59.83     C        C4  ...   \n",
       "8               60             21.28       152.39     F        F2  ...   \n",
       "9               60             12.69       121.45     B        B5  ...   \n",
       "12              36             13.49       305.38     C        C1  ...   \n",
       "26              36             14.27       514.64     C        C2  ...   \n",
       "...            ...               ...          ...   ...       ...  ...   \n",
       "39638           36             12.17       266.37     D        D2  ...   \n",
       "39652           36             11.54       104.76     C        C5  ...   \n",
       "39666           36             11.22       507.46     C        C4  ...   \n",
       "39667           36             12.80        84.00     D        D4  ...   \n",
       "39678           36             10.59        32.55     C        C2  ...   \n",
       "\n",
       "      last_pymnt_amnt last_credit_pull_d collections_12_mths_ex_med  \\\n",
       "1              119.66         2013-09-01                        0.0   \n",
       "8              152.39         2012-08-01                        0.0   \n",
       "9              121.45         2013-03-01                        0.0   \n",
       "12             305.38         2012-11-01                        0.0   \n",
       "26               0.00         2016-05-01                        0.0   \n",
       "...               ...                ...                        ...   \n",
       "39638          266.37         2010-05-01                        0.0   \n",
       "39652          104.76         2016-04-01                        0.0   \n",
       "39666         1016.15         2010-03-01                        NaN   \n",
       "39667            1.76         2016-05-01                        NaN   \n",
       "39678           32.55         2009-10-01                        NaN   \n",
       "\n",
       "       policy_code application_type acc_now_delinq chargeoff_within_12_mths  \\\n",
       "1                1       INDIVIDUAL              0                      0.0   \n",
       "8                1       INDIVIDUAL              0                      0.0   \n",
       "9                1       INDIVIDUAL              0                      0.0   \n",
       "12               1       INDIVIDUAL              0                      0.0   \n",
       "26               1       INDIVIDUAL              0                      0.0   \n",
       "...            ...              ...            ...                      ...   \n",
       "39638            1       INDIVIDUAL              0                      0.0   \n",
       "39652            1       INDIVIDUAL              0                      0.0   \n",
       "39666            1       INDIVIDUAL              0                      NaN   \n",
       "39667            1       INDIVIDUAL              0                      NaN   \n",
       "39678            1       INDIVIDUAL              0                      NaN   \n",
       "\n",
       "      delinq_amnt pub_rec_bankruptcies tax_liens  \n",
       "1               0                  0.0       0.0  \n",
       "8               0                  0.0       0.0  \n",
       "9               0                  0.0       0.0  \n",
       "12              0                  0.0       0.0  \n",
       "26              0                  0.0       0.0  \n",
       "...           ...                  ...       ...  \n",
       "39638           0                  NaN       0.0  \n",
       "39652           0                  NaN       0.0  \n",
       "39666           0                  1.0       0.0  \n",
       "39667           0                  NaN       0.0  \n",
       "39678           0                  NaN       0.0  \n",
       "\n",
       "[4190 rows x 53 columns]"
      ]
     },
     "execution_count": 71,
     "metadata": {},
     "output_type": "execute_result"
    }
   ],
   "source": [
    "LoanData_defaulters[LoanData_defaulters.annual_inc < LoanData_defaulters.annual_inc.quantile(.75)]"
   ]
  },
  {
   "cell_type": "code",
   "execution_count": 93,
   "id": "aeb7b633",
   "metadata": {},
   "outputs": [
    {
     "data": {
      "image/png": "[encoded data removed]",
      "text/plain": [
       "<Figure size 360x360 with 1 Axes>"
      ]
     },
     "metadata": {},
     "output_type": "display_data"
    }
   ],
   "source": [
    "sns.lmplot(x=\"annual_inc\", y=\"loan_amnt\" , data=LoanData_defaulters[LoanData_defaulters.annual_inc < LoanData_defaulters.annual_inc.quantile(.75)]);"
   ]
  },
  {
   "cell_type": "markdown",
   "id": "1d95e878",
   "metadata": {},
   "source": [
    "# Derived metrics \n",
    " - Month and Year\n",
    " - Loan Amount/ Annual income ratio\n"
   ]
  },
  {
   "cell_type": "code",
   "execution_count": 76,
   "id": "0b27e1ab",
   "metadata": {},
   "outputs": [],
   "source": [
    "# Adding dervied column year and month\n",
    "LoanData[\"year\"]=pd.DatetimeIndex(LoanData[\"issue_d\"]).year\n",
    "LoanData[\"month\"]=pd.DatetimeIndex(LoanData[\"issue_d\"]).month\n",
    "LoanData_defaulters[\"year\"]=pd.DatetimeIndex(LoanData_defaulters[\"issue_d\"]).year\n",
    "LoanData_defaulters[\"month\"]=pd.DatetimeIndex(LoanData_defaulters[\"issue_d\"]).month\n",
    "LoanData_Fullpaid[\"year\"]=pd.DatetimeIndex(LoanData_Fullpaid[\"issue_d\"]).year\n",
    "LoanData_Fullpaid[\"month\"]=pd.DatetimeIndex(LoanData_Fullpaid[\"issue_d\"]).month\n",
    "\n"
   ]
  },
  {
   "cell_type": "code",
   "execution_count": 94,
   "id": "a22d152b",
   "metadata": {},
   "outputs": [
    {
     "data": {
      "image/png": "[encoded data removed]",
      "text/plain": [
       "<Figure size 432x288 with 1 Axes>"
      ]
     },
     "metadata": {},
     "output_type": "display_data"
    }
   ],
   "source": [
    "# Plotting graph of Loan applications \n",
    "\n",
    "LoanData.groupby(['year'])['issue_d'].count().plot.bar()\n",
    "plt.title(\"Loan applications(given) over the years \\n\", fontdict={'fontsize':20, 'fontweight':5, 'color':'Green'})\n",
    "plt.xlabel(\"Year\",fontdict={'fontsize':20, 'fontweight':5, 'color':'Green'})\n",
    "plt.ylabel(\"Loan Count\",fontdict={'fontsize':20, 'fontweight':5, 'color':'Green'})\n",
    "plt.show()\n",
    "\n"
   ]
  },
  {
   "cell_type": "code",
   "execution_count": 78,
   "id": "c52f69b5",
   "metadata": {},
   "outputs": [
    {
     "data": {
      "image/png": "[encoded data removed]",
      "text/plain": [
       "<Figure size 432x288 with 1 Axes>"
      ]
     },
     "metadata": {},
     "output_type": "display_data"
    }
   ],
   "source": [
    "# Checking Charged off loans\n",
    "\n",
    "LoanData_defaulters.groupby(['year'])['issue_d'].count().plot.bar()\n",
    "plt.title(\"Charged off Loans over the years \\n\", fontdict={'fontsize':20, 'fontweight':5, 'color':'Green'})\n",
    "plt.xlabel(\"Year\",fontdict={'fontsize':20, 'fontweight':5, 'color':'Green'})\n",
    "plt.ylabel(\"Loan Count\",fontdict={'fontsize':20, 'fontweight':5, 'color':'Green'})\n",
    "plt.show()\n"
   ]
  },
  {
   "cell_type": "code",
   "execution_count": 79,
   "id": "96bd760b",
   "metadata": {},
   "outputs": [
    {
     "data": {
      "image/png": "[encoded data removed]",
      "text/plain": [
       "<Figure size 432x288 with 1 Axes>"
      ]
     },
     "metadata": {},
     "output_type": "display_data"
    }
   ],
   "source": [
    "#Charged off loans based on month \n",
    "LoanData_defaulters.groupby(['month'])['issue_d'].count().plot.bar()\n",
    "plt.title(\"Charged off Loans based on month of Loan issue date \\n\", fontdict={'fontsize':20, 'fontweight':5, 'color':'Green'})\n",
    "plt.xlabel(\"Month\",fontdict={'fontsize':20, 'fontweight':5, 'color':'Green'})\n",
    "plt.ylabel(\"Loan Count\",fontdict={'fontsize':20, 'fontweight':5, 'color':'Green'})\n",
    "plt.show()\n"
   ]
  },
  {
   "cell_type": "code",
   "execution_count": 80,
   "id": "806d6447",
   "metadata": {},
   "outputs": [
    {
     "data": {
      "image/png": "[encoded data removed]",
      "text/plain": [
       "<Figure size 432x288 with 1 Axes>"
      ]
     },
     "metadata": {},
     "output_type": "display_data"
    }
   ],
   "source": [
    "#Charged off loans year and month based \n",
    "Loandata_yearmonth=LoanData_defaulters.groupby(['year','month']).agg(count_total=(\"loan_status\",'count'))\n",
    "Loandata_yearmonth.reset_index(inplace=True)\n",
    "sns.barplot(data=Loandata_yearmonth, x= \"year\", y= \"count_total\",hue=\"month\")\n",
    "plt.title(\"Bar Chart of Charged off Loans based based on Year and Month \\n\", fontdict={'fontsize':20, 'fontweight':5, 'color':'Green'})\n",
    "plt.xlabel(\"Year\",fontdict={'fontsize':20, 'fontweight':5, 'color':'Green'})\n",
    "plt.ylabel(\"Loan Count\",fontdict={'fontsize':20, 'fontweight':5, 'color':'Green'})\n",
    "plt.show()"
   ]
  }
 ],
 "metadata": {
  "kernelspec": {
   "display_name": "Python 3",
   "language": "python",
   "name": "python3"
  },
  "language_info": {
   "codemirror_mode": {
    "name": "ipython",
    "version": 3
   },
   "file_extension": ".py",
   "mimetype": "text/x-python",
   "name": "python",
   "nbconvert_exporter": "python",
   "pygments_lexer": "ipython3",
   "version": "3.8.8"
  }
 },
 "nbformat": 4,
 "nbformat_minor": 5
}
